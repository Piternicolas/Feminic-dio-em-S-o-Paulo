{
  "nbformat": 4,
  "nbformat_minor": 0,
  "metadata": {
    "colab": {
      "provenance": [],
      "authorship_tag": "ABX9TyNbyPLOBQLufRxRL+V/zupr",
      "include_colab_link": true
    },
    "kernelspec": {
      "name": "python3",
      "display_name": "Python 3"
    },
    "language_info": {
      "name": "python"
    }
  },
  "cells": [
    {
      "cell_type": "markdown",
      "metadata": {
        "id": "view-in-github",
        "colab_type": "text"
      },
      "source": [
        "<a href=\"https://colab.research.google.com/github/Piternicolas/Feminicidio-em-Sao-Paulo/blob/main/FEMINIC%C3%8DDIO_EM_S%C3%83O_PAULO.ipynb\" target=\"_parent\"><img src=\"https://colab.research.google.com/assets/colab-badge.svg\" alt=\"Open In Colab\"/></a>"
      ]
    },
    {
      "cell_type": "code",
      "execution_count": null,
      "metadata": {
        "id": "ge0u_mZV9F79"
      },
      "outputs": [],
      "source": [
        "import pandas as pd\n",
        "import matplotlib.pyplot as plt\n",
        "import datetime as dt\n",
        "import datetime\n",
        "import time\n",
        "import seaborn as sns"
      ]
    },
    {
      "cell_type": "code",
      "source": [
        "pd.set_option('display.max_columns', None)\n",
        "pd.set_option('display.max_rows', None)\n",
        "pd.options.display.max_colwidth = 100"
      ],
      "metadata": {
        "id": "2ccVLzV4_0p4"
      },
      "execution_count": null,
      "outputs": []
    },
    {
      "cell_type": "code",
      "source": [
        "df = pd.read_csv(\"feminicidioSP.csv\")"
      ],
      "metadata": {
        "id": "lMjx8wQLtwgf"
      },
      "execution_count": null,
      "outputs": []
    },
    {
      "cell_type": "code",
      "source": [
        "df.DATA_FATO = pd.to_datetime(df.DATA_FATO, format=\"%m/%d/%Y\")\n",
        "df.DATA_NASCIMENTO_PESSOA = pd.to_datetime(df.DATA_NASCIMENTO_PESSOA, format=\"%m/%d/%Y\")"
      ],
      "metadata": {
        "id": "UMnL1d53H1k8"
      },
      "execution_count": null,
      "outputs": []
    },
    {
      "cell_type": "code",
      "source": [
        "print(\"Colunas do DataFrame:\", df.shape[1],\"\\nEntradas do DataFrame:\",df.shape[0])"
      ],
      "metadata": {
        "colab": {
          "base_uri": "https://localhost:8080/"
        },
        "id": "aK3oLlRHvQ7t",
        "outputId": "4f77b31b-cd97-48fb-9469-37d7deb55917"
      },
      "execution_count": null,
      "outputs": [
        {
          "output_type": "stream",
          "name": "stdout",
          "text": [
            "Colunas do DataFrame: 13 \n",
            "Entradas do DataFrame: 1060\n"
          ]
        }
      ]
    },
    {
      "cell_type": "code",
      "source": [
        "df[:3]"
      ],
      "metadata": {
        "colab": {
          "base_uri": "https://localhost:8080/",
          "height": 468
        },
        "id": "Cv4QrTF-t40q",
        "outputId": "9dec8cf4-d37a-4b49-ce4a-a51e09886b09"
      },
      "execution_count": null,
      "outputs": [
        {
          "output_type": "execute_result",
          "data": {
            "text/plain": [
              "  MUNICIPIO_CIRCUNSCRICAO    DP_CIRCUNSCRICAO   Nº DE VÍT HD  DATA_FATO  \\\n",
              "0                 Itupeva         DM - Itupeva             1 2015-04-12   \n",
              "1                 Ubatuba         DM - Ubatuba             1 2015-04-18   \n",
              "2               São Paulo  049 DP - São Mateus             1 2015-04-24   \n",
              "\n",
              "     DESC_TIPOLOCAL TIPO_PESSOA SEXO_PESSOA  IDADE_PESSOA  \\\n",
              "0    Templo e afins      Vítima    Feminino          44.0   \n",
              "1  Area não ocupada      Vítima    Feminino          37.0   \n",
              "2       Via pública      Vítima    Feminino          17.0   \n",
              "\n",
              "  DATA_NASCIMENTO_PESSOA COR_PELE      PROFISSAO  NATUREZA_APURADA  \\\n",
              "0             1970-04-16   Branca  COSTUREIRO(A)  HOMICÍDIO DOLOSO   \n",
              "1             1977-07-08    Parda       AJUDANTE  HOMICÍDIO DOLOSO   \n",
              "2             1997-12-31   Branca      ESTUDANTE  HOMICÍDIO DOLOSO   \n",
              "\n",
              "                                                         DESDOBRAMENTO  \n",
              "0  Feminicídio-contra a mulher por razões da condição de sexo feminino  \n",
              "1  Feminicídio-contra a mulher por razões da condição de sexo feminino  \n",
              "2  Feminicídio-contra a mulher por razões da condição de sexo feminino  "
            ],
            "text/html": [
              "\n",
              "  <div id=\"df-872c0dbe-1d9d-40b8-97bb-20e285f30aa7\">\n",
              "    <div class=\"colab-df-container\">\n",
              "      <div>\n",
              "<style scoped>\n",
              "    .dataframe tbody tr th:only-of-type {\n",
              "        vertical-align: middle;\n",
              "    }\n",
              "\n",
              "    .dataframe tbody tr th {\n",
              "        vertical-align: top;\n",
              "    }\n",
              "\n",
              "    .dataframe thead th {\n",
              "        text-align: right;\n",
              "    }\n",
              "</style>\n",
              "<table border=\"1\" class=\"dataframe\">\n",
              "  <thead>\n",
              "    <tr style=\"text-align: right;\">\n",
              "      <th></th>\n",
              "      <th>MUNICIPIO_CIRCUNSCRICAO</th>\n",
              "      <th>DP_CIRCUNSCRICAO</th>\n",
              "      <th>Nº DE VÍT HD</th>\n",
              "      <th>DATA_FATO</th>\n",
              "      <th>DESC_TIPOLOCAL</th>\n",
              "      <th>TIPO_PESSOA</th>\n",
              "      <th>SEXO_PESSOA</th>\n",
              "      <th>IDADE_PESSOA</th>\n",
              "      <th>DATA_NASCIMENTO_PESSOA</th>\n",
              "      <th>COR_PELE</th>\n",
              "      <th>PROFISSAO</th>\n",
              "      <th>NATUREZA_APURADA</th>\n",
              "      <th>DESDOBRAMENTO</th>\n",
              "    </tr>\n",
              "  </thead>\n",
              "  <tbody>\n",
              "    <tr>\n",
              "      <th>0</th>\n",
              "      <td>Itupeva</td>\n",
              "      <td>DM - Itupeva</td>\n",
              "      <td>1</td>\n",
              "      <td>2015-04-12</td>\n",
              "      <td>Templo e afins</td>\n",
              "      <td>Vítima</td>\n",
              "      <td>Feminino</td>\n",
              "      <td>44.0</td>\n",
              "      <td>1970-04-16</td>\n",
              "      <td>Branca</td>\n",
              "      <td>COSTUREIRO(A)</td>\n",
              "      <td>HOMICÍDIO DOLOSO</td>\n",
              "      <td>Feminicídio-contra a mulher por razões da condição de sexo feminino</td>\n",
              "    </tr>\n",
              "    <tr>\n",
              "      <th>1</th>\n",
              "      <td>Ubatuba</td>\n",
              "      <td>DM - Ubatuba</td>\n",
              "      <td>1</td>\n",
              "      <td>2015-04-18</td>\n",
              "      <td>Area não ocupada</td>\n",
              "      <td>Vítima</td>\n",
              "      <td>Feminino</td>\n",
              "      <td>37.0</td>\n",
              "      <td>1977-07-08</td>\n",
              "      <td>Parda</td>\n",
              "      <td>AJUDANTE</td>\n",
              "      <td>HOMICÍDIO DOLOSO</td>\n",
              "      <td>Feminicídio-contra a mulher por razões da condição de sexo feminino</td>\n",
              "    </tr>\n",
              "    <tr>\n",
              "      <th>2</th>\n",
              "      <td>São Paulo</td>\n",
              "      <td>049 DP - São Mateus</td>\n",
              "      <td>1</td>\n",
              "      <td>2015-04-24</td>\n",
              "      <td>Via pública</td>\n",
              "      <td>Vítima</td>\n",
              "      <td>Feminino</td>\n",
              "      <td>17.0</td>\n",
              "      <td>1997-12-31</td>\n",
              "      <td>Branca</td>\n",
              "      <td>ESTUDANTE</td>\n",
              "      <td>HOMICÍDIO DOLOSO</td>\n",
              "      <td>Feminicídio-contra a mulher por razões da condição de sexo feminino</td>\n",
              "    </tr>\n",
              "  </tbody>\n",
              "</table>\n",
              "</div>\n",
              "      <button class=\"colab-df-convert\" onclick=\"convertToInteractive('df-872c0dbe-1d9d-40b8-97bb-20e285f30aa7')\"\n",
              "              title=\"Convert this dataframe to an interactive table.\"\n",
              "              style=\"display:none;\">\n",
              "        \n",
              "  <svg xmlns=\"http://www.w3.org/2000/svg\" height=\"24px\"viewBox=\"0 0 24 24\"\n",
              "       width=\"24px\">\n",
              "    <path d=\"M0 0h24v24H0V0z\" fill=\"none\"/>\n",
              "    <path d=\"M18.56 5.44l.94 2.06.94-2.06 2.06-.94-2.06-.94-.94-2.06-.94 2.06-2.06.94zm-11 1L8.5 8.5l.94-2.06 2.06-.94-2.06-.94L8.5 2.5l-.94 2.06-2.06.94zm10 10l.94 2.06.94-2.06 2.06-.94-2.06-.94-.94-2.06-.94 2.06-2.06.94z\"/><path d=\"M17.41 7.96l-1.37-1.37c-.4-.4-.92-.59-1.43-.59-.52 0-1.04.2-1.43.59L10.3 9.45l-7.72 7.72c-.78.78-.78 2.05 0 2.83L4 21.41c.39.39.9.59 1.41.59.51 0 1.02-.2 1.41-.59l7.78-7.78 2.81-2.81c.8-.78.8-2.07 0-2.86zM5.41 20L4 18.59l7.72-7.72 1.47 1.35L5.41 20z\"/>\n",
              "  </svg>\n",
              "      </button>\n",
              "      \n",
              "  <style>\n",
              "    .colab-df-container {\n",
              "      display:flex;\n",
              "      flex-wrap:wrap;\n",
              "      gap: 12px;\n",
              "    }\n",
              "\n",
              "    .colab-df-convert {\n",
              "      background-color: #E8F0FE;\n",
              "      border: none;\n",
              "      border-radius: 50%;\n",
              "      cursor: pointer;\n",
              "      display: none;\n",
              "      fill: #1967D2;\n",
              "      height: 32px;\n",
              "      padding: 0 0 0 0;\n",
              "      width: 32px;\n",
              "    }\n",
              "\n",
              "    .colab-df-convert:hover {\n",
              "      background-color: #E2EBFA;\n",
              "      box-shadow: 0px 1px 2px rgba(60, 64, 67, 0.3), 0px 1px 3px 1px rgba(60, 64, 67, 0.15);\n",
              "      fill: #174EA6;\n",
              "    }\n",
              "\n",
              "    [theme=dark] .colab-df-convert {\n",
              "      background-color: #3B4455;\n",
              "      fill: #D2E3FC;\n",
              "    }\n",
              "\n",
              "    [theme=dark] .colab-df-convert:hover {\n",
              "      background-color: #434B5C;\n",
              "      box-shadow: 0px 1px 3px 1px rgba(0, 0, 0, 0.15);\n",
              "      filter: drop-shadow(0px 1px 2px rgba(0, 0, 0, 0.3));\n",
              "      fill: #FFFFFF;\n",
              "    }\n",
              "  </style>\n",
              "\n",
              "      <script>\n",
              "        const buttonEl =\n",
              "          document.querySelector('#df-872c0dbe-1d9d-40b8-97bb-20e285f30aa7 button.colab-df-convert');\n",
              "        buttonEl.style.display =\n",
              "          google.colab.kernel.accessAllowed ? 'block' : 'none';\n",
              "\n",
              "        async function convertToInteractive(key) {\n",
              "          const element = document.querySelector('#df-872c0dbe-1d9d-40b8-97bb-20e285f30aa7');\n",
              "          const dataTable =\n",
              "            await google.colab.kernel.invokeFunction('convertToInteractive',\n",
              "                                                     [key], {});\n",
              "          if (!dataTable) return;\n",
              "\n",
              "          const docLinkHtml = 'Like what you see? Visit the ' +\n",
              "            '<a target=\"_blank\" href=https://colab.research.google.com/notebooks/data_table.ipynb>data table notebook</a>'\n",
              "            + ' to learn more about interactive tables.';\n",
              "          element.innerHTML = '';\n",
              "          dataTable['output_type'] = 'display_data';\n",
              "          await google.colab.output.renderOutput(dataTable, element);\n",
              "          const docLink = document.createElement('div');\n",
              "          docLink.innerHTML = docLinkHtml;\n",
              "          element.appendChild(docLink);\n",
              "        }\n",
              "      </script>\n",
              "    </div>\n",
              "  </div>\n",
              "  "
            ]
          },
          "metadata": {},
          "execution_count": 6
        }
      ]
    },
    {
      "cell_type": "code",
      "source": [
        "print(\"Colunas:\\n\",\n",
        "      df.dtypes)"
      ],
      "metadata": {
        "colab": {
          "base_uri": "https://localhost:8080/"
        },
        "id": "EdUpefpNuCu6",
        "outputId": "cbe4b3d4-e257-4404-e476-02f6a5e6592b"
      },
      "execution_count": null,
      "outputs": [
        {
          "output_type": "stream",
          "name": "stdout",
          "text": [
            "Colunas:\n",
            " MUNICIPIO_CIRCUNSCRICAO            object\n",
            "DP_CIRCUNSCRICAO                   object\n",
            "Nº DE VÍT HD                        int64\n",
            "DATA_FATO                  datetime64[ns]\n",
            "DESC_TIPOLOCAL                     object\n",
            "TIPO_PESSOA                        object\n",
            "SEXO_PESSOA                        object\n",
            "IDADE_PESSOA                      float64\n",
            "DATA_NASCIMENTO_PESSOA     datetime64[ns]\n",
            "COR_PELE                           object\n",
            "PROFISSAO                          object\n",
            "NATUREZA_APURADA                   object\n",
            "DESDOBRAMENTO                      object\n",
            "dtype: object\n"
          ]
        }
      ]
    },
    {
      "cell_type": "markdown",
      "source": [
        "## **Dicionário das colunas:**\n",
        "* **MUNICIPIO_CIRCUNSCRICAO:** Cidade do estado de São Paulo.\n",
        "* **DP_CIRCUNSCRICAO:** Departamento de Polícia que foi registrado o boletim de ocorrência.\n",
        "* **Nº DE VÍT HD**: Número de vítimas.\n",
        "* **DATA_FATO:** Data que ocorreu o crime.\n",
        "* **DESC_TIPOLOCAL:** Descrição do local onde ocorreu o crime.\n",
        "* **TIPO_PESSOA:** Vítima do crime.\n",
        "* **SEXO_PESSOA:** Sexo da vítima:\n",
        "* **IDADE_PESSOA:** Idade da vítima.\n",
        "* **DATA_NASCIMENTO_PESSOA:** Data de nascimento da vítima.\n",
        "* **COR_PELE:** Cor da pele da vítima.\n",
        "* **PROFISSAO:** Profissão da vítima.\n",
        "* **NATUREZA_APURADA:** Natureza do crime.\n",
        "* **DESDOBRAMENTO:** Especificação do crime."
      ],
      "metadata": {
        "id": "TSls7v7qCeU2"
      }
    },
    {
      "cell_type": "code",
      "source": [
        "df.TIPO_PESSOA.value_counts()"
      ],
      "metadata": {
        "colab": {
          "base_uri": "https://localhost:8080/"
        },
        "id": "boe0eI3iEnoi",
        "outputId": "395b7807-d856-4306-c069-97c0bdc30552"
      },
      "execution_count": null,
      "outputs": [
        {
          "output_type": "execute_result",
          "data": {
            "text/plain": [
              "Vítima                  1057\n",
              "Autor/Vitima               1\n",
              "Encontro de Cadáver        1\n",
              "Vítima                     1\n",
              "Name: TIPO_PESSOA, dtype: int64"
            ]
          },
          "metadata": {},
          "execution_count": 8
        }
      ]
    },
    {
      "cell_type": "code",
      "source": [
        "df.SEXO_PESSOA.value_counts()"
      ],
      "metadata": {
        "colab": {
          "base_uri": "https://localhost:8080/"
        },
        "id": "2WH9ELgcEnkS",
        "outputId": "0fd0b192-2f31-47d8-d45e-757fb71dd523"
      },
      "execution_count": null,
      "outputs": [
        {
          "output_type": "execute_result",
          "data": {
            "text/plain": [
              "Feminino     1057\n",
              "Masculino       3\n",
              "Name: SEXO_PESSOA, dtype: int64"
            ]
          },
          "metadata": {},
          "execution_count": 9
        }
      ]
    },
    {
      "cell_type": "code",
      "source": [
        "df.NATUREZA_APURADA.value_counts()"
      ],
      "metadata": {
        "colab": {
          "base_uri": "https://localhost:8080/"
        },
        "id": "p1wyBwKpEnZq",
        "outputId": "6fc9f0d3-dd47-4b45-8de9-494962e45e25"
      },
      "execution_count": null,
      "outputs": [
        {
          "output_type": "execute_result",
          "data": {
            "text/plain": [
              "HOMICÍDIO DOLOSO    1060\n",
              "Name: NATUREZA_APURADA, dtype: int64"
            ]
          },
          "metadata": {},
          "execution_count": 10
        }
      ]
    },
    {
      "cell_type": "code",
      "source": [
        "df.DESDOBRAMENTO.value_counts()"
      ],
      "metadata": {
        "colab": {
          "base_uri": "https://localhost:8080/"
        },
        "id": "Ean-fYqLFTPa",
        "outputId": "2d70db5c-9666-4a03-8837-107870c01d34"
      },
      "execution_count": null,
      "outputs": [
        {
          "output_type": "execute_result",
          "data": {
            "text/plain": [
              "Feminicídio-contra a mulher por razões da condição de sexo feminino                1058\n",
              "A pena do feminicídio é aumentada de 1/3 (um terço) até a metade se o crime for       2\n",
              "Name: DESDOBRAMENTO, dtype: int64"
            ]
          },
          "metadata": {},
          "execution_count": 11
        }
      ]
    },
    {
      "cell_type": "markdown",
      "source": [
        "## **Observações:**\n",
        "* A coluna **TIPO_PESSOA** tem 4 tipos de entradas diferentes, vou eliminar duas que não fazem sentido para trabalhar os dados.\n",
        "* Na coluna **SEXO_PESSOA** há 3 entradas para o sexo MASCULINO, vou excluir pois quero trabalhar somente com os registros de mulheres pois esse projeto se trata de feminicídio.\n",
        "* A coluna **DESDOBRAMENTO** há 2 entradas diferentes, mais a frente vou investigar."
      ],
      "metadata": {
        "id": "7w3ZxiVrFeSu"
      }
    },
    {
      "cell_type": "markdown",
      "source": [
        "## **Exclusão de entradas dispensáveis**\n",
        "\n"
      ],
      "metadata": {
        "id": "8V5TOoKBHT6a"
      }
    },
    {
      "cell_type": "code",
      "source": [
        "df.loc[df.SEXO_PESSOA == 'Masculino']"
      ],
      "metadata": {
        "colab": {
          "base_uri": "https://localhost:8080/",
          "height": 468
        },
        "id": "yCYlTKRWFol6",
        "outputId": "2f8d040b-905f-48f4-f4a3-5709cd2644bb"
      },
      "execution_count": null,
      "outputs": [
        {
          "output_type": "execute_result",
          "data": {
            "text/plain": [
              "    MUNICIPIO_CIRCUNSCRICAO      DP_CIRCUNSCRICAO   Nº DE VÍT HD  DATA_FATO  \\\n",
              "382            Praia Grande  002 DP - Praia Grande             1 2019-02-13   \n",
              "672                Ibitinga          DM - Ibitinga             1 2020-10-05   \n",
              "844               Catanduva     003 DP - Catanduva             1 2021-11-06   \n",
              "\n",
              "          DESC_TIPOLOCAL TIPO_PESSOA SEXO_PESSOA  IDADE_PESSOA  \\\n",
              "382           Residência      Vítima   Masculino          36.0   \n",
              "672           Residência      Vítima   Masculino          17.0   \n",
              "844  Comércio e serviços      Vítima   Masculino          32.0   \n",
              "\n",
              "    DATA_NASCIMENTO_PESSOA COR_PELE        PROFISSAO  NATUREZA_APURADA  \\\n",
              "382             1982-10-28    Parda  CABELEIREIRO(A)  HOMICÍDIO DOLOSO   \n",
              "672             2002-12-11   Branca        ESTUDANTE  HOMICÍDIO DOLOSO   \n",
              "844             1989-06-03    Parda          ARTISTA  HOMICÍDIO DOLOSO   \n",
              "\n",
              "                                                           DESDOBRAMENTO  \n",
              "382  Feminicídio-contra a mulher por razões da condição de sexo feminino  \n",
              "672  Feminicídio-contra a mulher por razões da condição de sexo feminino  \n",
              "844  Feminicídio-contra a mulher por razões da condição de sexo feminino  "
            ],
            "text/html": [
              "\n",
              "  <div id=\"df-fe074735-e776-4efb-b2bf-72b3ac6528ed\">\n",
              "    <div class=\"colab-df-container\">\n",
              "      <div>\n",
              "<style scoped>\n",
              "    .dataframe tbody tr th:only-of-type {\n",
              "        vertical-align: middle;\n",
              "    }\n",
              "\n",
              "    .dataframe tbody tr th {\n",
              "        vertical-align: top;\n",
              "    }\n",
              "\n",
              "    .dataframe thead th {\n",
              "        text-align: right;\n",
              "    }\n",
              "</style>\n",
              "<table border=\"1\" class=\"dataframe\">\n",
              "  <thead>\n",
              "    <tr style=\"text-align: right;\">\n",
              "      <th></th>\n",
              "      <th>MUNICIPIO_CIRCUNSCRICAO</th>\n",
              "      <th>DP_CIRCUNSCRICAO</th>\n",
              "      <th>Nº DE VÍT HD</th>\n",
              "      <th>DATA_FATO</th>\n",
              "      <th>DESC_TIPOLOCAL</th>\n",
              "      <th>TIPO_PESSOA</th>\n",
              "      <th>SEXO_PESSOA</th>\n",
              "      <th>IDADE_PESSOA</th>\n",
              "      <th>DATA_NASCIMENTO_PESSOA</th>\n",
              "      <th>COR_PELE</th>\n",
              "      <th>PROFISSAO</th>\n",
              "      <th>NATUREZA_APURADA</th>\n",
              "      <th>DESDOBRAMENTO</th>\n",
              "    </tr>\n",
              "  </thead>\n",
              "  <tbody>\n",
              "    <tr>\n",
              "      <th>382</th>\n",
              "      <td>Praia Grande</td>\n",
              "      <td>002 DP - Praia Grande</td>\n",
              "      <td>1</td>\n",
              "      <td>2019-02-13</td>\n",
              "      <td>Residência</td>\n",
              "      <td>Vítima</td>\n",
              "      <td>Masculino</td>\n",
              "      <td>36.0</td>\n",
              "      <td>1982-10-28</td>\n",
              "      <td>Parda</td>\n",
              "      <td>CABELEIREIRO(A)</td>\n",
              "      <td>HOMICÍDIO DOLOSO</td>\n",
              "      <td>Feminicídio-contra a mulher por razões da condição de sexo feminino</td>\n",
              "    </tr>\n",
              "    <tr>\n",
              "      <th>672</th>\n",
              "      <td>Ibitinga</td>\n",
              "      <td>DM - Ibitinga</td>\n",
              "      <td>1</td>\n",
              "      <td>2020-10-05</td>\n",
              "      <td>Residência</td>\n",
              "      <td>Vítima</td>\n",
              "      <td>Masculino</td>\n",
              "      <td>17.0</td>\n",
              "      <td>2002-12-11</td>\n",
              "      <td>Branca</td>\n",
              "      <td>ESTUDANTE</td>\n",
              "      <td>HOMICÍDIO DOLOSO</td>\n",
              "      <td>Feminicídio-contra a mulher por razões da condição de sexo feminino</td>\n",
              "    </tr>\n",
              "    <tr>\n",
              "      <th>844</th>\n",
              "      <td>Catanduva</td>\n",
              "      <td>003 DP - Catanduva</td>\n",
              "      <td>1</td>\n",
              "      <td>2021-11-06</td>\n",
              "      <td>Comércio e serviços</td>\n",
              "      <td>Vítima</td>\n",
              "      <td>Masculino</td>\n",
              "      <td>32.0</td>\n",
              "      <td>1989-06-03</td>\n",
              "      <td>Parda</td>\n",
              "      <td>ARTISTA</td>\n",
              "      <td>HOMICÍDIO DOLOSO</td>\n",
              "      <td>Feminicídio-contra a mulher por razões da condição de sexo feminino</td>\n",
              "    </tr>\n",
              "  </tbody>\n",
              "</table>\n",
              "</div>\n",
              "      <button class=\"colab-df-convert\" onclick=\"convertToInteractive('df-fe074735-e776-4efb-b2bf-72b3ac6528ed')\"\n",
              "              title=\"Convert this dataframe to an interactive table.\"\n",
              "              style=\"display:none;\">\n",
              "        \n",
              "  <svg xmlns=\"http://www.w3.org/2000/svg\" height=\"24px\"viewBox=\"0 0 24 24\"\n",
              "       width=\"24px\">\n",
              "    <path d=\"M0 0h24v24H0V0z\" fill=\"none\"/>\n",
              "    <path d=\"M18.56 5.44l.94 2.06.94-2.06 2.06-.94-2.06-.94-.94-2.06-.94 2.06-2.06.94zm-11 1L8.5 8.5l.94-2.06 2.06-.94-2.06-.94L8.5 2.5l-.94 2.06-2.06.94zm10 10l.94 2.06.94-2.06 2.06-.94-2.06-.94-.94-2.06-.94 2.06-2.06.94z\"/><path d=\"M17.41 7.96l-1.37-1.37c-.4-.4-.92-.59-1.43-.59-.52 0-1.04.2-1.43.59L10.3 9.45l-7.72 7.72c-.78.78-.78 2.05 0 2.83L4 21.41c.39.39.9.59 1.41.59.51 0 1.02-.2 1.41-.59l7.78-7.78 2.81-2.81c.8-.78.8-2.07 0-2.86zM5.41 20L4 18.59l7.72-7.72 1.47 1.35L5.41 20z\"/>\n",
              "  </svg>\n",
              "      </button>\n",
              "      \n",
              "  <style>\n",
              "    .colab-df-container {\n",
              "      display:flex;\n",
              "      flex-wrap:wrap;\n",
              "      gap: 12px;\n",
              "    }\n",
              "\n",
              "    .colab-df-convert {\n",
              "      background-color: #E8F0FE;\n",
              "      border: none;\n",
              "      border-radius: 50%;\n",
              "      cursor: pointer;\n",
              "      display: none;\n",
              "      fill: #1967D2;\n",
              "      height: 32px;\n",
              "      padding: 0 0 0 0;\n",
              "      width: 32px;\n",
              "    }\n",
              "\n",
              "    .colab-df-convert:hover {\n",
              "      background-color: #E2EBFA;\n",
              "      box-shadow: 0px 1px 2px rgba(60, 64, 67, 0.3), 0px 1px 3px 1px rgba(60, 64, 67, 0.15);\n",
              "      fill: #174EA6;\n",
              "    }\n",
              "\n",
              "    [theme=dark] .colab-df-convert {\n",
              "      background-color: #3B4455;\n",
              "      fill: #D2E3FC;\n",
              "    }\n",
              "\n",
              "    [theme=dark] .colab-df-convert:hover {\n",
              "      background-color: #434B5C;\n",
              "      box-shadow: 0px 1px 3px 1px rgba(0, 0, 0, 0.15);\n",
              "      filter: drop-shadow(0px 1px 2px rgba(0, 0, 0, 0.3));\n",
              "      fill: #FFFFFF;\n",
              "    }\n",
              "  </style>\n",
              "\n",
              "      <script>\n",
              "        const buttonEl =\n",
              "          document.querySelector('#df-fe074735-e776-4efb-b2bf-72b3ac6528ed button.colab-df-convert');\n",
              "        buttonEl.style.display =\n",
              "          google.colab.kernel.accessAllowed ? 'block' : 'none';\n",
              "\n",
              "        async function convertToInteractive(key) {\n",
              "          const element = document.querySelector('#df-fe074735-e776-4efb-b2bf-72b3ac6528ed');\n",
              "          const dataTable =\n",
              "            await google.colab.kernel.invokeFunction('convertToInteractive',\n",
              "                                                     [key], {});\n",
              "          if (!dataTable) return;\n",
              "\n",
              "          const docLinkHtml = 'Like what you see? Visit the ' +\n",
              "            '<a target=\"_blank\" href=https://colab.research.google.com/notebooks/data_table.ipynb>data table notebook</a>'\n",
              "            + ' to learn more about interactive tables.';\n",
              "          element.innerHTML = '';\n",
              "          dataTable['output_type'] = 'display_data';\n",
              "          await google.colab.output.renderOutput(dataTable, element);\n",
              "          const docLink = document.createElement('div');\n",
              "          docLink.innerHTML = docLinkHtml;\n",
              "          element.appendChild(docLink);\n",
              "        }\n",
              "      </script>\n",
              "    </div>\n",
              "  </div>\n",
              "  "
            ]
          },
          "metadata": {},
          "execution_count": 12
        }
      ]
    },
    {
      "cell_type": "code",
      "source": [
        "df = df.drop((df.loc[df.SEXO_PESSOA == 'Masculino']).index)"
      ],
      "metadata": {
        "id": "PwW-uR7HHshB"
      },
      "execution_count": null,
      "outputs": []
    },
    {
      "cell_type": "code",
      "source": [
        "df.loc[df.TIPO_PESSOA == 'Autor/Vitima']"
      ],
      "metadata": {
        "colab": {
          "base_uri": "https://localhost:8080/",
          "height": 266
        },
        "id": "ZyBAsvTWJxJa",
        "outputId": "6d8c7b06-6221-4710-8f28-93c416e78e9b"
      },
      "execution_count": null,
      "outputs": [
        {
          "output_type": "execute_result",
          "data": {
            "text/plain": [
              "    MUNICIPIO_CIRCUNSCRICAO         DP_CIRCUNSCRICAO   Nº DE VÍT HD  \\\n",
              "205               São Paulo  010 DP - Penha de França             1   \n",
              "\n",
              "     DATA_FATO DESC_TIPOLOCAL   TIPO_PESSOA SEXO_PESSOA  IDADE_PESSOA  \\\n",
              "205 2017-11-07    Via pública  Autor/Vitima    Feminino          33.0   \n",
              "\n",
              "    DATA_NASCIMENTO_PESSOA COR_PELE  PROFISSAO  NATUREZA_APURADA  \\\n",
              "205             1984-01-20   Branca  ESTUDANTE  HOMICÍDIO DOLOSO   \n",
              "\n",
              "                                                           DESDOBRAMENTO  \n",
              "205  Feminicídio-contra a mulher por razões da condição de sexo feminino  "
            ],
            "text/html": [
              "\n",
              "  <div id=\"df-48b03ef8-43b2-4c43-84c9-2d2084b21386\">\n",
              "    <div class=\"colab-df-container\">\n",
              "      <div>\n",
              "<style scoped>\n",
              "    .dataframe tbody tr th:only-of-type {\n",
              "        vertical-align: middle;\n",
              "    }\n",
              "\n",
              "    .dataframe tbody tr th {\n",
              "        vertical-align: top;\n",
              "    }\n",
              "\n",
              "    .dataframe thead th {\n",
              "        text-align: right;\n",
              "    }\n",
              "</style>\n",
              "<table border=\"1\" class=\"dataframe\">\n",
              "  <thead>\n",
              "    <tr style=\"text-align: right;\">\n",
              "      <th></th>\n",
              "      <th>MUNICIPIO_CIRCUNSCRICAO</th>\n",
              "      <th>DP_CIRCUNSCRICAO</th>\n",
              "      <th>Nº DE VÍT HD</th>\n",
              "      <th>DATA_FATO</th>\n",
              "      <th>DESC_TIPOLOCAL</th>\n",
              "      <th>TIPO_PESSOA</th>\n",
              "      <th>SEXO_PESSOA</th>\n",
              "      <th>IDADE_PESSOA</th>\n",
              "      <th>DATA_NASCIMENTO_PESSOA</th>\n",
              "      <th>COR_PELE</th>\n",
              "      <th>PROFISSAO</th>\n",
              "      <th>NATUREZA_APURADA</th>\n",
              "      <th>DESDOBRAMENTO</th>\n",
              "    </tr>\n",
              "  </thead>\n",
              "  <tbody>\n",
              "    <tr>\n",
              "      <th>205</th>\n",
              "      <td>São Paulo</td>\n",
              "      <td>010 DP - Penha de França</td>\n",
              "      <td>1</td>\n",
              "      <td>2017-11-07</td>\n",
              "      <td>Via pública</td>\n",
              "      <td>Autor/Vitima</td>\n",
              "      <td>Feminino</td>\n",
              "      <td>33.0</td>\n",
              "      <td>1984-01-20</td>\n",
              "      <td>Branca</td>\n",
              "      <td>ESTUDANTE</td>\n",
              "      <td>HOMICÍDIO DOLOSO</td>\n",
              "      <td>Feminicídio-contra a mulher por razões da condição de sexo feminino</td>\n",
              "    </tr>\n",
              "  </tbody>\n",
              "</table>\n",
              "</div>\n",
              "      <button class=\"colab-df-convert\" onclick=\"convertToInteractive('df-48b03ef8-43b2-4c43-84c9-2d2084b21386')\"\n",
              "              title=\"Convert this dataframe to an interactive table.\"\n",
              "              style=\"display:none;\">\n",
              "        \n",
              "  <svg xmlns=\"http://www.w3.org/2000/svg\" height=\"24px\"viewBox=\"0 0 24 24\"\n",
              "       width=\"24px\">\n",
              "    <path d=\"M0 0h24v24H0V0z\" fill=\"none\"/>\n",
              "    <path d=\"M18.56 5.44l.94 2.06.94-2.06 2.06-.94-2.06-.94-.94-2.06-.94 2.06-2.06.94zm-11 1L8.5 8.5l.94-2.06 2.06-.94-2.06-.94L8.5 2.5l-.94 2.06-2.06.94zm10 10l.94 2.06.94-2.06 2.06-.94-2.06-.94-.94-2.06-.94 2.06-2.06.94z\"/><path d=\"M17.41 7.96l-1.37-1.37c-.4-.4-.92-.59-1.43-.59-.52 0-1.04.2-1.43.59L10.3 9.45l-7.72 7.72c-.78.78-.78 2.05 0 2.83L4 21.41c.39.39.9.59 1.41.59.51 0 1.02-.2 1.41-.59l7.78-7.78 2.81-2.81c.8-.78.8-2.07 0-2.86zM5.41 20L4 18.59l7.72-7.72 1.47 1.35L5.41 20z\"/>\n",
              "  </svg>\n",
              "      </button>\n",
              "      \n",
              "  <style>\n",
              "    .colab-df-container {\n",
              "      display:flex;\n",
              "      flex-wrap:wrap;\n",
              "      gap: 12px;\n",
              "    }\n",
              "\n",
              "    .colab-df-convert {\n",
              "      background-color: #E8F0FE;\n",
              "      border: none;\n",
              "      border-radius: 50%;\n",
              "      cursor: pointer;\n",
              "      display: none;\n",
              "      fill: #1967D2;\n",
              "      height: 32px;\n",
              "      padding: 0 0 0 0;\n",
              "      width: 32px;\n",
              "    }\n",
              "\n",
              "    .colab-df-convert:hover {\n",
              "      background-color: #E2EBFA;\n",
              "      box-shadow: 0px 1px 2px rgba(60, 64, 67, 0.3), 0px 1px 3px 1px rgba(60, 64, 67, 0.15);\n",
              "      fill: #174EA6;\n",
              "    }\n",
              "\n",
              "    [theme=dark] .colab-df-convert {\n",
              "      background-color: #3B4455;\n",
              "      fill: #D2E3FC;\n",
              "    }\n",
              "\n",
              "    [theme=dark] .colab-df-convert:hover {\n",
              "      background-color: #434B5C;\n",
              "      box-shadow: 0px 1px 3px 1px rgba(0, 0, 0, 0.15);\n",
              "      filter: drop-shadow(0px 1px 2px rgba(0, 0, 0, 0.3));\n",
              "      fill: #FFFFFF;\n",
              "    }\n",
              "  </style>\n",
              "\n",
              "      <script>\n",
              "        const buttonEl =\n",
              "          document.querySelector('#df-48b03ef8-43b2-4c43-84c9-2d2084b21386 button.colab-df-convert');\n",
              "        buttonEl.style.display =\n",
              "          google.colab.kernel.accessAllowed ? 'block' : 'none';\n",
              "\n",
              "        async function convertToInteractive(key) {\n",
              "          const element = document.querySelector('#df-48b03ef8-43b2-4c43-84c9-2d2084b21386');\n",
              "          const dataTable =\n",
              "            await google.colab.kernel.invokeFunction('convertToInteractive',\n",
              "                                                     [key], {});\n",
              "          if (!dataTable) return;\n",
              "\n",
              "          const docLinkHtml = 'Like what you see? Visit the ' +\n",
              "            '<a target=\"_blank\" href=https://colab.research.google.com/notebooks/data_table.ipynb>data table notebook</a>'\n",
              "            + ' to learn more about interactive tables.';\n",
              "          element.innerHTML = '';\n",
              "          dataTable['output_type'] = 'display_data';\n",
              "          await google.colab.output.renderOutput(dataTable, element);\n",
              "          const docLink = document.createElement('div');\n",
              "          docLink.innerHTML = docLinkHtml;\n",
              "          element.appendChild(docLink);\n",
              "        }\n",
              "      </script>\n",
              "    </div>\n",
              "  </div>\n",
              "  "
            ]
          },
          "metadata": {},
          "execution_count": 14
        }
      ]
    },
    {
      "cell_type": "code",
      "source": [
        "df.loc[df.TIPO_PESSOA == 'Encontro de Cadáver']"
      ],
      "metadata": {
        "colab": {
          "base_uri": "https://localhost:8080/",
          "height": 266
        },
        "id": "pdgfX62tJ5rH",
        "outputId": "f242e6d6-119f-4aa9-fa40-755086825e30"
      },
      "execution_count": null,
      "outputs": [
        {
          "output_type": "execute_result",
          "data": {
            "text/plain": [
              "    MUNICIPIO_CIRCUNSCRICAO DP_CIRCUNSCRICAO   Nº DE VÍT HD  DATA_FATO  \\\n",
              "899             Serra Negra  DM - Serra Negra             1 2022-03-08   \n",
              "\n",
              "       DESC_TIPOLOCAL          TIPO_PESSOA SEXO_PESSOA  IDADE_PESSOA  \\\n",
              "899  Area não ocupada  Encontro de Cadáver    Feminino          34.0   \n",
              "\n",
              "    DATA_NASCIMENTO_PESSOA COR_PELE PROFISSAO  NATUREZA_APURADA  \\\n",
              "899             1987-09-12   Branca       NaN  HOMICÍDIO DOLOSO   \n",
              "\n",
              "                                                           DESDOBRAMENTO  \n",
              "899  Feminicídio-contra a mulher por razões da condição de sexo feminino  "
            ],
            "text/html": [
              "\n",
              "  <div id=\"df-17653883-4a6c-4867-a5bc-974238bfc805\">\n",
              "    <div class=\"colab-df-container\">\n",
              "      <div>\n",
              "<style scoped>\n",
              "    .dataframe tbody tr th:only-of-type {\n",
              "        vertical-align: middle;\n",
              "    }\n",
              "\n",
              "    .dataframe tbody tr th {\n",
              "        vertical-align: top;\n",
              "    }\n",
              "\n",
              "    .dataframe thead th {\n",
              "        text-align: right;\n",
              "    }\n",
              "</style>\n",
              "<table border=\"1\" class=\"dataframe\">\n",
              "  <thead>\n",
              "    <tr style=\"text-align: right;\">\n",
              "      <th></th>\n",
              "      <th>MUNICIPIO_CIRCUNSCRICAO</th>\n",
              "      <th>DP_CIRCUNSCRICAO</th>\n",
              "      <th>Nº DE VÍT HD</th>\n",
              "      <th>DATA_FATO</th>\n",
              "      <th>DESC_TIPOLOCAL</th>\n",
              "      <th>TIPO_PESSOA</th>\n",
              "      <th>SEXO_PESSOA</th>\n",
              "      <th>IDADE_PESSOA</th>\n",
              "      <th>DATA_NASCIMENTO_PESSOA</th>\n",
              "      <th>COR_PELE</th>\n",
              "      <th>PROFISSAO</th>\n",
              "      <th>NATUREZA_APURADA</th>\n",
              "      <th>DESDOBRAMENTO</th>\n",
              "    </tr>\n",
              "  </thead>\n",
              "  <tbody>\n",
              "    <tr>\n",
              "      <th>899</th>\n",
              "      <td>Serra Negra</td>\n",
              "      <td>DM - Serra Negra</td>\n",
              "      <td>1</td>\n",
              "      <td>2022-03-08</td>\n",
              "      <td>Area não ocupada</td>\n",
              "      <td>Encontro de Cadáver</td>\n",
              "      <td>Feminino</td>\n",
              "      <td>34.0</td>\n",
              "      <td>1987-09-12</td>\n",
              "      <td>Branca</td>\n",
              "      <td>NaN</td>\n",
              "      <td>HOMICÍDIO DOLOSO</td>\n",
              "      <td>Feminicídio-contra a mulher por razões da condição de sexo feminino</td>\n",
              "    </tr>\n",
              "  </tbody>\n",
              "</table>\n",
              "</div>\n",
              "      <button class=\"colab-df-convert\" onclick=\"convertToInteractive('df-17653883-4a6c-4867-a5bc-974238bfc805')\"\n",
              "              title=\"Convert this dataframe to an interactive table.\"\n",
              "              style=\"display:none;\">\n",
              "        \n",
              "  <svg xmlns=\"http://www.w3.org/2000/svg\" height=\"24px\"viewBox=\"0 0 24 24\"\n",
              "       width=\"24px\">\n",
              "    <path d=\"M0 0h24v24H0V0z\" fill=\"none\"/>\n",
              "    <path d=\"M18.56 5.44l.94 2.06.94-2.06 2.06-.94-2.06-.94-.94-2.06-.94 2.06-2.06.94zm-11 1L8.5 8.5l.94-2.06 2.06-.94-2.06-.94L8.5 2.5l-.94 2.06-2.06.94zm10 10l.94 2.06.94-2.06 2.06-.94-2.06-.94-.94-2.06-.94 2.06-2.06.94z\"/><path d=\"M17.41 7.96l-1.37-1.37c-.4-.4-.92-.59-1.43-.59-.52 0-1.04.2-1.43.59L10.3 9.45l-7.72 7.72c-.78.78-.78 2.05 0 2.83L4 21.41c.39.39.9.59 1.41.59.51 0 1.02-.2 1.41-.59l7.78-7.78 2.81-2.81c.8-.78.8-2.07 0-2.86zM5.41 20L4 18.59l7.72-7.72 1.47 1.35L5.41 20z\"/>\n",
              "  </svg>\n",
              "      </button>\n",
              "      \n",
              "  <style>\n",
              "    .colab-df-container {\n",
              "      display:flex;\n",
              "      flex-wrap:wrap;\n",
              "      gap: 12px;\n",
              "    }\n",
              "\n",
              "    .colab-df-convert {\n",
              "      background-color: #E8F0FE;\n",
              "      border: none;\n",
              "      border-radius: 50%;\n",
              "      cursor: pointer;\n",
              "      display: none;\n",
              "      fill: #1967D2;\n",
              "      height: 32px;\n",
              "      padding: 0 0 0 0;\n",
              "      width: 32px;\n",
              "    }\n",
              "\n",
              "    .colab-df-convert:hover {\n",
              "      background-color: #E2EBFA;\n",
              "      box-shadow: 0px 1px 2px rgba(60, 64, 67, 0.3), 0px 1px 3px 1px rgba(60, 64, 67, 0.15);\n",
              "      fill: #174EA6;\n",
              "    }\n",
              "\n",
              "    [theme=dark] .colab-df-convert {\n",
              "      background-color: #3B4455;\n",
              "      fill: #D2E3FC;\n",
              "    }\n",
              "\n",
              "    [theme=dark] .colab-df-convert:hover {\n",
              "      background-color: #434B5C;\n",
              "      box-shadow: 0px 1px 3px 1px rgba(0, 0, 0, 0.15);\n",
              "      filter: drop-shadow(0px 1px 2px rgba(0, 0, 0, 0.3));\n",
              "      fill: #FFFFFF;\n",
              "    }\n",
              "  </style>\n",
              "\n",
              "      <script>\n",
              "        const buttonEl =\n",
              "          document.querySelector('#df-17653883-4a6c-4867-a5bc-974238bfc805 button.colab-df-convert');\n",
              "        buttonEl.style.display =\n",
              "          google.colab.kernel.accessAllowed ? 'block' : 'none';\n",
              "\n",
              "        async function convertToInteractive(key) {\n",
              "          const element = document.querySelector('#df-17653883-4a6c-4867-a5bc-974238bfc805');\n",
              "          const dataTable =\n",
              "            await google.colab.kernel.invokeFunction('convertToInteractive',\n",
              "                                                     [key], {});\n",
              "          if (!dataTable) return;\n",
              "\n",
              "          const docLinkHtml = 'Like what you see? Visit the ' +\n",
              "            '<a target=\"_blank\" href=https://colab.research.google.com/notebooks/data_table.ipynb>data table notebook</a>'\n",
              "            + ' to learn more about interactive tables.';\n",
              "          element.innerHTML = '';\n",
              "          dataTable['output_type'] = 'display_data';\n",
              "          await google.colab.output.renderOutput(dataTable, element);\n",
              "          const docLink = document.createElement('div');\n",
              "          docLink.innerHTML = docLinkHtml;\n",
              "          element.appendChild(docLink);\n",
              "        }\n",
              "      </script>\n",
              "    </div>\n",
              "  </div>\n",
              "  "
            ]
          },
          "metadata": {},
          "execution_count": 15
        }
      ]
    },
    {
      "cell_type": "code",
      "source": [
        "df = df.drop((df.loc[df.TIPO_PESSOA =='Autor/Vitima']).index)\n",
        "df = df.drop((df.loc[df.TIPO_PESSOA =='Encontro de Cadáver']).index)"
      ],
      "metadata": {
        "id": "H8pcuHHUI5k6"
      },
      "execution_count": null,
      "outputs": []
    },
    {
      "cell_type": "code",
      "source": [
        "df.shape[0]"
      ],
      "metadata": {
        "colab": {
          "base_uri": "https://localhost:8080/"
        },
        "id": "vdm8QVt4I82R",
        "outputId": "0874085d-de60-4cbe-ff2e-6ffd04cd41c2"
      },
      "execution_count": null,
      "outputs": [
        {
          "output_type": "execute_result",
          "data": {
            "text/plain": [
              "1055"
            ]
          },
          "metadata": {},
          "execution_count": 17
        }
      ]
    },
    {
      "cell_type": "code",
      "source": [
        "df[:5]"
      ],
      "metadata": {
        "colab": {
          "base_uri": "https://localhost:8080/",
          "height": 669
        },
        "id": "ngosUoxnLYIa",
        "outputId": "f1f85ecb-f7cf-4871-d326-95eb908d6b89"
      },
      "execution_count": null,
      "outputs": [
        {
          "output_type": "execute_result",
          "data": {
            "text/plain": [
              "  MUNICIPIO_CIRCUNSCRICAO     DP_CIRCUNSCRICAO   Nº DE VÍT HD  DATA_FATO  \\\n",
              "0                 Itupeva          DM - Itupeva             1 2015-04-12   \n",
              "1                 Ubatuba          DM - Ubatuba             1 2015-04-18   \n",
              "2               São Paulo   049 DP - São Mateus             1 2015-04-24   \n",
              "3               Viradouro        DM - Viradouro             1 2015-04-26   \n",
              "4             Carapicuíba  002 DP - Carapicuiba             1 2015-05-03   \n",
              "\n",
              "     DESC_TIPOLOCAL TIPO_PESSOA SEXO_PESSOA  IDADE_PESSOA  \\\n",
              "0    Templo e afins      Vítima    Feminino          44.0   \n",
              "1  Area não ocupada      Vítima    Feminino          37.0   \n",
              "2       Via pública      Vítima    Feminino          17.0   \n",
              "3        Residência      Vítima    Feminino          54.0   \n",
              "4        Residência      Vítima    Feminino          23.0   \n",
              "\n",
              "  DATA_NASCIMENTO_PESSOA COR_PELE                  PROFISSAO  \\\n",
              "0             1970-04-16   Branca              COSTUREIRO(A)   \n",
              "1             1977-07-08    Parda                   AJUDANTE   \n",
              "2             1997-12-31   Branca                  ESTUDANTE   \n",
              "3             1960-06-11    Parda               FAXINEIRO(A)   \n",
              "4             1991-05-25    Preta  OPERADOR(A) TELEMARKETING   \n",
              "\n",
              "   NATUREZA_APURADA  \\\n",
              "0  HOMICÍDIO DOLOSO   \n",
              "1  HOMICÍDIO DOLOSO   \n",
              "2  HOMICÍDIO DOLOSO   \n",
              "3  HOMICÍDIO DOLOSO   \n",
              "4  HOMICÍDIO DOLOSO   \n",
              "\n",
              "                                                         DESDOBRAMENTO  \n",
              "0  Feminicídio-contra a mulher por razões da condição de sexo feminino  \n",
              "1  Feminicídio-contra a mulher por razões da condição de sexo feminino  \n",
              "2  Feminicídio-contra a mulher por razões da condição de sexo feminino  \n",
              "3  Feminicídio-contra a mulher por razões da condição de sexo feminino  \n",
              "4  Feminicídio-contra a mulher por razões da condição de sexo feminino  "
            ],
            "text/html": [
              "\n",
              "  <div id=\"df-e1f09373-f398-4e31-a234-56cfdb577884\">\n",
              "    <div class=\"colab-df-container\">\n",
              "      <div>\n",
              "<style scoped>\n",
              "    .dataframe tbody tr th:only-of-type {\n",
              "        vertical-align: middle;\n",
              "    }\n",
              "\n",
              "    .dataframe tbody tr th {\n",
              "        vertical-align: top;\n",
              "    }\n",
              "\n",
              "    .dataframe thead th {\n",
              "        text-align: right;\n",
              "    }\n",
              "</style>\n",
              "<table border=\"1\" class=\"dataframe\">\n",
              "  <thead>\n",
              "    <tr style=\"text-align: right;\">\n",
              "      <th></th>\n",
              "      <th>MUNICIPIO_CIRCUNSCRICAO</th>\n",
              "      <th>DP_CIRCUNSCRICAO</th>\n",
              "      <th>Nº DE VÍT HD</th>\n",
              "      <th>DATA_FATO</th>\n",
              "      <th>DESC_TIPOLOCAL</th>\n",
              "      <th>TIPO_PESSOA</th>\n",
              "      <th>SEXO_PESSOA</th>\n",
              "      <th>IDADE_PESSOA</th>\n",
              "      <th>DATA_NASCIMENTO_PESSOA</th>\n",
              "      <th>COR_PELE</th>\n",
              "      <th>PROFISSAO</th>\n",
              "      <th>NATUREZA_APURADA</th>\n",
              "      <th>DESDOBRAMENTO</th>\n",
              "    </tr>\n",
              "  </thead>\n",
              "  <tbody>\n",
              "    <tr>\n",
              "      <th>0</th>\n",
              "      <td>Itupeva</td>\n",
              "      <td>DM - Itupeva</td>\n",
              "      <td>1</td>\n",
              "      <td>2015-04-12</td>\n",
              "      <td>Templo e afins</td>\n",
              "      <td>Vítima</td>\n",
              "      <td>Feminino</td>\n",
              "      <td>44.0</td>\n",
              "      <td>1970-04-16</td>\n",
              "      <td>Branca</td>\n",
              "      <td>COSTUREIRO(A)</td>\n",
              "      <td>HOMICÍDIO DOLOSO</td>\n",
              "      <td>Feminicídio-contra a mulher por razões da condição de sexo feminino</td>\n",
              "    </tr>\n",
              "    <tr>\n",
              "      <th>1</th>\n",
              "      <td>Ubatuba</td>\n",
              "      <td>DM - Ubatuba</td>\n",
              "      <td>1</td>\n",
              "      <td>2015-04-18</td>\n",
              "      <td>Area não ocupada</td>\n",
              "      <td>Vítima</td>\n",
              "      <td>Feminino</td>\n",
              "      <td>37.0</td>\n",
              "      <td>1977-07-08</td>\n",
              "      <td>Parda</td>\n",
              "      <td>AJUDANTE</td>\n",
              "      <td>HOMICÍDIO DOLOSO</td>\n",
              "      <td>Feminicídio-contra a mulher por razões da condição de sexo feminino</td>\n",
              "    </tr>\n",
              "    <tr>\n",
              "      <th>2</th>\n",
              "      <td>São Paulo</td>\n",
              "      <td>049 DP - São Mateus</td>\n",
              "      <td>1</td>\n",
              "      <td>2015-04-24</td>\n",
              "      <td>Via pública</td>\n",
              "      <td>Vítima</td>\n",
              "      <td>Feminino</td>\n",
              "      <td>17.0</td>\n",
              "      <td>1997-12-31</td>\n",
              "      <td>Branca</td>\n",
              "      <td>ESTUDANTE</td>\n",
              "      <td>HOMICÍDIO DOLOSO</td>\n",
              "      <td>Feminicídio-contra a mulher por razões da condição de sexo feminino</td>\n",
              "    </tr>\n",
              "    <tr>\n",
              "      <th>3</th>\n",
              "      <td>Viradouro</td>\n",
              "      <td>DM - Viradouro</td>\n",
              "      <td>1</td>\n",
              "      <td>2015-04-26</td>\n",
              "      <td>Residência</td>\n",
              "      <td>Vítima</td>\n",
              "      <td>Feminino</td>\n",
              "      <td>54.0</td>\n",
              "      <td>1960-06-11</td>\n",
              "      <td>Parda</td>\n",
              "      <td>FAXINEIRO(A)</td>\n",
              "      <td>HOMICÍDIO DOLOSO</td>\n",
              "      <td>Feminicídio-contra a mulher por razões da condição de sexo feminino</td>\n",
              "    </tr>\n",
              "    <tr>\n",
              "      <th>4</th>\n",
              "      <td>Carapicuíba</td>\n",
              "      <td>002 DP - Carapicuiba</td>\n",
              "      <td>1</td>\n",
              "      <td>2015-05-03</td>\n",
              "      <td>Residência</td>\n",
              "      <td>Vítima</td>\n",
              "      <td>Feminino</td>\n",
              "      <td>23.0</td>\n",
              "      <td>1991-05-25</td>\n",
              "      <td>Preta</td>\n",
              "      <td>OPERADOR(A) TELEMARKETING</td>\n",
              "      <td>HOMICÍDIO DOLOSO</td>\n",
              "      <td>Feminicídio-contra a mulher por razões da condição de sexo feminino</td>\n",
              "    </tr>\n",
              "  </tbody>\n",
              "</table>\n",
              "</div>\n",
              "      <button class=\"colab-df-convert\" onclick=\"convertToInteractive('df-e1f09373-f398-4e31-a234-56cfdb577884')\"\n",
              "              title=\"Convert this dataframe to an interactive table.\"\n",
              "              style=\"display:none;\">\n",
              "        \n",
              "  <svg xmlns=\"http://www.w3.org/2000/svg\" height=\"24px\"viewBox=\"0 0 24 24\"\n",
              "       width=\"24px\">\n",
              "    <path d=\"M0 0h24v24H0V0z\" fill=\"none\"/>\n",
              "    <path d=\"M18.56 5.44l.94 2.06.94-2.06 2.06-.94-2.06-.94-.94-2.06-.94 2.06-2.06.94zm-11 1L8.5 8.5l.94-2.06 2.06-.94-2.06-.94L8.5 2.5l-.94 2.06-2.06.94zm10 10l.94 2.06.94-2.06 2.06-.94-2.06-.94-.94-2.06-.94 2.06-2.06.94z\"/><path d=\"M17.41 7.96l-1.37-1.37c-.4-.4-.92-.59-1.43-.59-.52 0-1.04.2-1.43.59L10.3 9.45l-7.72 7.72c-.78.78-.78 2.05 0 2.83L4 21.41c.39.39.9.59 1.41.59.51 0 1.02-.2 1.41-.59l7.78-7.78 2.81-2.81c.8-.78.8-2.07 0-2.86zM5.41 20L4 18.59l7.72-7.72 1.47 1.35L5.41 20z\"/>\n",
              "  </svg>\n",
              "      </button>\n",
              "      \n",
              "  <style>\n",
              "    .colab-df-container {\n",
              "      display:flex;\n",
              "      flex-wrap:wrap;\n",
              "      gap: 12px;\n",
              "    }\n",
              "\n",
              "    .colab-df-convert {\n",
              "      background-color: #E8F0FE;\n",
              "      border: none;\n",
              "      border-radius: 50%;\n",
              "      cursor: pointer;\n",
              "      display: none;\n",
              "      fill: #1967D2;\n",
              "      height: 32px;\n",
              "      padding: 0 0 0 0;\n",
              "      width: 32px;\n",
              "    }\n",
              "\n",
              "    .colab-df-convert:hover {\n",
              "      background-color: #E2EBFA;\n",
              "      box-shadow: 0px 1px 2px rgba(60, 64, 67, 0.3), 0px 1px 3px 1px rgba(60, 64, 67, 0.15);\n",
              "      fill: #174EA6;\n",
              "    }\n",
              "\n",
              "    [theme=dark] .colab-df-convert {\n",
              "      background-color: #3B4455;\n",
              "      fill: #D2E3FC;\n",
              "    }\n",
              "\n",
              "    [theme=dark] .colab-df-convert:hover {\n",
              "      background-color: #434B5C;\n",
              "      box-shadow: 0px 1px 3px 1px rgba(0, 0, 0, 0.15);\n",
              "      filter: drop-shadow(0px 1px 2px rgba(0, 0, 0, 0.3));\n",
              "      fill: #FFFFFF;\n",
              "    }\n",
              "  </style>\n",
              "\n",
              "      <script>\n",
              "        const buttonEl =\n",
              "          document.querySelector('#df-e1f09373-f398-4e31-a234-56cfdb577884 button.colab-df-convert');\n",
              "        buttonEl.style.display =\n",
              "          google.colab.kernel.accessAllowed ? 'block' : 'none';\n",
              "\n",
              "        async function convertToInteractive(key) {\n",
              "          const element = document.querySelector('#df-e1f09373-f398-4e31-a234-56cfdb577884');\n",
              "          const dataTable =\n",
              "            await google.colab.kernel.invokeFunction('convertToInteractive',\n",
              "                                                     [key], {});\n",
              "          if (!dataTable) return;\n",
              "\n",
              "          const docLinkHtml = 'Like what you see? Visit the ' +\n",
              "            '<a target=\"_blank\" href=https://colab.research.google.com/notebooks/data_table.ipynb>data table notebook</a>'\n",
              "            + ' to learn more about interactive tables.';\n",
              "          element.innerHTML = '';\n",
              "          dataTable['output_type'] = 'display_data';\n",
              "          await google.colab.output.renderOutput(dataTable, element);\n",
              "          const docLink = document.createElement('div');\n",
              "          docLink.innerHTML = docLinkHtml;\n",
              "          element.appendChild(docLink);\n",
              "        }\n",
              "      </script>\n",
              "    </div>\n",
              "  </div>\n",
              "  "
            ]
          },
          "metadata": {},
          "execution_count": 18
        }
      ]
    },
    {
      "cell_type": "code",
      "source": [
        "print(\"Entradas após limpeza:\",df.shape[0])"
      ],
      "metadata": {
        "colab": {
          "base_uri": "https://localhost:8080/"
        },
        "id": "jkgQ2Ln0XyZA",
        "outputId": "8bde228e-5782-454e-af46-a1f0ecc133c9"
      },
      "execution_count": null,
      "outputs": [
        {
          "output_type": "stream",
          "name": "stdout",
          "text": [
            "Entradas após limpeza: 1055\n"
          ]
        }
      ]
    },
    {
      "cell_type": "markdown",
      "source": [
        "* Excluí cerca **0,5%** dos dados.\n",
        "\n",
        "### **Abaixo vou tratar as colunas com entradas nulas**"
      ],
      "metadata": {
        "id": "W2DQvPTFMnYv"
      }
    },
    {
      "cell_type": "code",
      "source": [
        "df.isnull().sum().sort_values(ascending=False)"
      ],
      "metadata": {
        "colab": {
          "base_uri": "https://localhost:8080/"
        },
        "id": "QLtNeH_kNxEq",
        "outputId": "b0206eec-4ac8-4d6e-eb4e-e5af021e3f07"
      },
      "execution_count": null,
      "outputs": [
        {
          "output_type": "execute_result",
          "data": {
            "text/plain": [
              "PROFISSAO                  374\n",
              "DATA_NASCIMENTO_PESSOA      11\n",
              "IDADE_PESSOA                 8\n",
              "MUNICIPIO_CIRCUNSCRICAO      0\n",
              "DP_CIRCUNSCRICAO             0\n",
              "Nº DE VÍT HD                 0\n",
              "DATA_FATO                    0\n",
              "DESC_TIPOLOCAL               0\n",
              "TIPO_PESSOA                  0\n",
              "SEXO_PESSOA                  0\n",
              "COR_PELE                     0\n",
              "NATUREZA_APURADA             0\n",
              "DESDOBRAMENTO                0\n",
              "dtype: int64"
            ]
          },
          "metadata": {},
          "execution_count": 20
        }
      ]
    },
    {
      "cell_type": "code",
      "source": [
        "df[df.IDADE_PESSOA.isnull()]"
      ],
      "metadata": {
        "colab": {
          "base_uri": "https://localhost:8080/",
          "height": 971
        },
        "id": "x8vqDEjEN32q",
        "outputId": "7a5dc030-f10c-485d-ac84-de88a65bece9"
      },
      "execution_count": null,
      "outputs": [
        {
          "output_type": "execute_result",
          "data": {
            "text/plain": [
              "    MUNICIPIO_CIRCUNSCRICAO             DP_CIRCUNSCRICAO   Nº DE VÍT HD  \\\n",
              "44                São Paulo          025 DP - Parelheiros             1   \n",
              "118                  Suzano               001 DP - Suzano             1   \n",
              "146         Franco da Rocha          DM - Franco da Rocha             1   \n",
              "321     São José dos Campos  006 DP - São Jose dos Campos             1   \n",
              "478   Ferraz de Vasconcelos    DM - Ferraz de Vasconcelos             1   \n",
              "605                Sorocaba             009 DP - Sorocaba             1   \n",
              "690                   Cotia                001 DP - Cotia             1   \n",
              "981            Nova Granada             DM - Nova Granada             1   \n",
              "\n",
              "     DATA_FATO            DESC_TIPOLOCAL TIPO_PESSOA SEXO_PESSOA  \\\n",
              "44  2016-01-31          Area não ocupada      Vítima    Feminino   \n",
              "118 2017-01-24  Serviços e bens públicos      Vítima    Feminino   \n",
              "146 2017-04-16                Residência      Vítima    Feminino   \n",
              "321 2018-10-03                Residência      Vítima    Feminino   \n",
              "478 2019-09-21             Unidade rural      Vítima    Feminino   \n",
              "605 2020-04-12         Lazer e recreação      Vítima    Feminino   \n",
              "690 2020-11-07                Residência      Vítima    Feminino   \n",
              "981 2022-08-24                Residência      Vítima    Feminino   \n",
              "\n",
              "     IDADE_PESSOA DATA_NASCIMENTO_PESSOA  COR_PELE      PROFISSAO  \\\n",
              "44            NaN                    NaT     Parda            NaN   \n",
              "118           NaN                    NaT    Branca            NaN   \n",
              "146           NaN                    NaT     Parda            NaN   \n",
              "321           NaN                    NaT   Amarela  COZINHEIRO(A)   \n",
              "478           NaN                    NaT  Ignorada            NaN   \n",
              "605           NaN                    NaT     Parda            NaN   \n",
              "690           NaN                    NaT     Parda            NaN   \n",
              "981           NaN                    NaT  Ignorada            NaN   \n",
              "\n",
              "     NATUREZA_APURADA  \\\n",
              "44   HOMICÍDIO DOLOSO   \n",
              "118  HOMICÍDIO DOLOSO   \n",
              "146  HOMICÍDIO DOLOSO   \n",
              "321  HOMICÍDIO DOLOSO   \n",
              "478  HOMICÍDIO DOLOSO   \n",
              "605  HOMICÍDIO DOLOSO   \n",
              "690  HOMICÍDIO DOLOSO   \n",
              "981  HOMICÍDIO DOLOSO   \n",
              "\n",
              "                                                           DESDOBRAMENTO  \n",
              "44   Feminicídio-contra a mulher por razões da condição de sexo feminino  \n",
              "118  Feminicídio-contra a mulher por razões da condição de sexo feminino  \n",
              "146  Feminicídio-contra a mulher por razões da condição de sexo feminino  \n",
              "321  Feminicídio-contra a mulher por razões da condição de sexo feminino  \n",
              "478  Feminicídio-contra a mulher por razões da condição de sexo feminino  \n",
              "605  Feminicídio-contra a mulher por razões da condição de sexo feminino  \n",
              "690  Feminicídio-contra a mulher por razões da condição de sexo feminino  \n",
              "981  Feminicídio-contra a mulher por razões da condição de sexo feminino  "
            ],
            "text/html": [
              "\n",
              "  <div id=\"df-8d9f4ec2-81d3-4670-96e7-d5c03ef06e1b\">\n",
              "    <div class=\"colab-df-container\">\n",
              "      <div>\n",
              "<style scoped>\n",
              "    .dataframe tbody tr th:only-of-type {\n",
              "        vertical-align: middle;\n",
              "    }\n",
              "\n",
              "    .dataframe tbody tr th {\n",
              "        vertical-align: top;\n",
              "    }\n",
              "\n",
              "    .dataframe thead th {\n",
              "        text-align: right;\n",
              "    }\n",
              "</style>\n",
              "<table border=\"1\" class=\"dataframe\">\n",
              "  <thead>\n",
              "    <tr style=\"text-align: right;\">\n",
              "      <th></th>\n",
              "      <th>MUNICIPIO_CIRCUNSCRICAO</th>\n",
              "      <th>DP_CIRCUNSCRICAO</th>\n",
              "      <th>Nº DE VÍT HD</th>\n",
              "      <th>DATA_FATO</th>\n",
              "      <th>DESC_TIPOLOCAL</th>\n",
              "      <th>TIPO_PESSOA</th>\n",
              "      <th>SEXO_PESSOA</th>\n",
              "      <th>IDADE_PESSOA</th>\n",
              "      <th>DATA_NASCIMENTO_PESSOA</th>\n",
              "      <th>COR_PELE</th>\n",
              "      <th>PROFISSAO</th>\n",
              "      <th>NATUREZA_APURADA</th>\n",
              "      <th>DESDOBRAMENTO</th>\n",
              "    </tr>\n",
              "  </thead>\n",
              "  <tbody>\n",
              "    <tr>\n",
              "      <th>44</th>\n",
              "      <td>São Paulo</td>\n",
              "      <td>025 DP - Parelheiros</td>\n",
              "      <td>1</td>\n",
              "      <td>2016-01-31</td>\n",
              "      <td>Area não ocupada</td>\n",
              "      <td>Vítima</td>\n",
              "      <td>Feminino</td>\n",
              "      <td>NaN</td>\n",
              "      <td>NaT</td>\n",
              "      <td>Parda</td>\n",
              "      <td>NaN</td>\n",
              "      <td>HOMICÍDIO DOLOSO</td>\n",
              "      <td>Feminicídio-contra a mulher por razões da condição de sexo feminino</td>\n",
              "    </tr>\n",
              "    <tr>\n",
              "      <th>118</th>\n",
              "      <td>Suzano</td>\n",
              "      <td>001 DP - Suzano</td>\n",
              "      <td>1</td>\n",
              "      <td>2017-01-24</td>\n",
              "      <td>Serviços e bens públicos</td>\n",
              "      <td>Vítima</td>\n",
              "      <td>Feminino</td>\n",
              "      <td>NaN</td>\n",
              "      <td>NaT</td>\n",
              "      <td>Branca</td>\n",
              "      <td>NaN</td>\n",
              "      <td>HOMICÍDIO DOLOSO</td>\n",
              "      <td>Feminicídio-contra a mulher por razões da condição de sexo feminino</td>\n",
              "    </tr>\n",
              "    <tr>\n",
              "      <th>146</th>\n",
              "      <td>Franco da Rocha</td>\n",
              "      <td>DM - Franco da Rocha</td>\n",
              "      <td>1</td>\n",
              "      <td>2017-04-16</td>\n",
              "      <td>Residência</td>\n",
              "      <td>Vítima</td>\n",
              "      <td>Feminino</td>\n",
              "      <td>NaN</td>\n",
              "      <td>NaT</td>\n",
              "      <td>Parda</td>\n",
              "      <td>NaN</td>\n",
              "      <td>HOMICÍDIO DOLOSO</td>\n",
              "      <td>Feminicídio-contra a mulher por razões da condição de sexo feminino</td>\n",
              "    </tr>\n",
              "    <tr>\n",
              "      <th>321</th>\n",
              "      <td>São José dos Campos</td>\n",
              "      <td>006 DP - São Jose dos Campos</td>\n",
              "      <td>1</td>\n",
              "      <td>2018-10-03</td>\n",
              "      <td>Residência</td>\n",
              "      <td>Vítima</td>\n",
              "      <td>Feminino</td>\n",
              "      <td>NaN</td>\n",
              "      <td>NaT</td>\n",
              "      <td>Amarela</td>\n",
              "      <td>COZINHEIRO(A)</td>\n",
              "      <td>HOMICÍDIO DOLOSO</td>\n",
              "      <td>Feminicídio-contra a mulher por razões da condição de sexo feminino</td>\n",
              "    </tr>\n",
              "    <tr>\n",
              "      <th>478</th>\n",
              "      <td>Ferraz de Vasconcelos</td>\n",
              "      <td>DM - Ferraz de Vasconcelos</td>\n",
              "      <td>1</td>\n",
              "      <td>2019-09-21</td>\n",
              "      <td>Unidade rural</td>\n",
              "      <td>Vítima</td>\n",
              "      <td>Feminino</td>\n",
              "      <td>NaN</td>\n",
              "      <td>NaT</td>\n",
              "      <td>Ignorada</td>\n",
              "      <td>NaN</td>\n",
              "      <td>HOMICÍDIO DOLOSO</td>\n",
              "      <td>Feminicídio-contra a mulher por razões da condição de sexo feminino</td>\n",
              "    </tr>\n",
              "    <tr>\n",
              "      <th>605</th>\n",
              "      <td>Sorocaba</td>\n",
              "      <td>009 DP - Sorocaba</td>\n",
              "      <td>1</td>\n",
              "      <td>2020-04-12</td>\n",
              "      <td>Lazer e recreação</td>\n",
              "      <td>Vítima</td>\n",
              "      <td>Feminino</td>\n",
              "      <td>NaN</td>\n",
              "      <td>NaT</td>\n",
              "      <td>Parda</td>\n",
              "      <td>NaN</td>\n",
              "      <td>HOMICÍDIO DOLOSO</td>\n",
              "      <td>Feminicídio-contra a mulher por razões da condição de sexo feminino</td>\n",
              "    </tr>\n",
              "    <tr>\n",
              "      <th>690</th>\n",
              "      <td>Cotia</td>\n",
              "      <td>001 DP - Cotia</td>\n",
              "      <td>1</td>\n",
              "      <td>2020-11-07</td>\n",
              "      <td>Residência</td>\n",
              "      <td>Vítima</td>\n",
              "      <td>Feminino</td>\n",
              "      <td>NaN</td>\n",
              "      <td>NaT</td>\n",
              "      <td>Parda</td>\n",
              "      <td>NaN</td>\n",
              "      <td>HOMICÍDIO DOLOSO</td>\n",
              "      <td>Feminicídio-contra a mulher por razões da condição de sexo feminino</td>\n",
              "    </tr>\n",
              "    <tr>\n",
              "      <th>981</th>\n",
              "      <td>Nova Granada</td>\n",
              "      <td>DM - Nova Granada</td>\n",
              "      <td>1</td>\n",
              "      <td>2022-08-24</td>\n",
              "      <td>Residência</td>\n",
              "      <td>Vítima</td>\n",
              "      <td>Feminino</td>\n",
              "      <td>NaN</td>\n",
              "      <td>NaT</td>\n",
              "      <td>Ignorada</td>\n",
              "      <td>NaN</td>\n",
              "      <td>HOMICÍDIO DOLOSO</td>\n",
              "      <td>Feminicídio-contra a mulher por razões da condição de sexo feminino</td>\n",
              "    </tr>\n",
              "  </tbody>\n",
              "</table>\n",
              "</div>\n",
              "      <button class=\"colab-df-convert\" onclick=\"convertToInteractive('df-8d9f4ec2-81d3-4670-96e7-d5c03ef06e1b')\"\n",
              "              title=\"Convert this dataframe to an interactive table.\"\n",
              "              style=\"display:none;\">\n",
              "        \n",
              "  <svg xmlns=\"http://www.w3.org/2000/svg\" height=\"24px\"viewBox=\"0 0 24 24\"\n",
              "       width=\"24px\">\n",
              "    <path d=\"M0 0h24v24H0V0z\" fill=\"none\"/>\n",
              "    <path d=\"M18.56 5.44l.94 2.06.94-2.06 2.06-.94-2.06-.94-.94-2.06-.94 2.06-2.06.94zm-11 1L8.5 8.5l.94-2.06 2.06-.94-2.06-.94L8.5 2.5l-.94 2.06-2.06.94zm10 10l.94 2.06.94-2.06 2.06-.94-2.06-.94-.94-2.06-.94 2.06-2.06.94z\"/><path d=\"M17.41 7.96l-1.37-1.37c-.4-.4-.92-.59-1.43-.59-.52 0-1.04.2-1.43.59L10.3 9.45l-7.72 7.72c-.78.78-.78 2.05 0 2.83L4 21.41c.39.39.9.59 1.41.59.51 0 1.02-.2 1.41-.59l7.78-7.78 2.81-2.81c.8-.78.8-2.07 0-2.86zM5.41 20L4 18.59l7.72-7.72 1.47 1.35L5.41 20z\"/>\n",
              "  </svg>\n",
              "      </button>\n",
              "      \n",
              "  <style>\n",
              "    .colab-df-container {\n",
              "      display:flex;\n",
              "      flex-wrap:wrap;\n",
              "      gap: 12px;\n",
              "    }\n",
              "\n",
              "    .colab-df-convert {\n",
              "      background-color: #E8F0FE;\n",
              "      border: none;\n",
              "      border-radius: 50%;\n",
              "      cursor: pointer;\n",
              "      display: none;\n",
              "      fill: #1967D2;\n",
              "      height: 32px;\n",
              "      padding: 0 0 0 0;\n",
              "      width: 32px;\n",
              "    }\n",
              "\n",
              "    .colab-df-convert:hover {\n",
              "      background-color: #E2EBFA;\n",
              "      box-shadow: 0px 1px 2px rgba(60, 64, 67, 0.3), 0px 1px 3px 1px rgba(60, 64, 67, 0.15);\n",
              "      fill: #174EA6;\n",
              "    }\n",
              "\n",
              "    [theme=dark] .colab-df-convert {\n",
              "      background-color: #3B4455;\n",
              "      fill: #D2E3FC;\n",
              "    }\n",
              "\n",
              "    [theme=dark] .colab-df-convert:hover {\n",
              "      background-color: #434B5C;\n",
              "      box-shadow: 0px 1px 3px 1px rgba(0, 0, 0, 0.15);\n",
              "      filter: drop-shadow(0px 1px 2px rgba(0, 0, 0, 0.3));\n",
              "      fill: #FFFFFF;\n",
              "    }\n",
              "  </style>\n",
              "\n",
              "      <script>\n",
              "        const buttonEl =\n",
              "          document.querySelector('#df-8d9f4ec2-81d3-4670-96e7-d5c03ef06e1b button.colab-df-convert');\n",
              "        buttonEl.style.display =\n",
              "          google.colab.kernel.accessAllowed ? 'block' : 'none';\n",
              "\n",
              "        async function convertToInteractive(key) {\n",
              "          const element = document.querySelector('#df-8d9f4ec2-81d3-4670-96e7-d5c03ef06e1b');\n",
              "          const dataTable =\n",
              "            await google.colab.kernel.invokeFunction('convertToInteractive',\n",
              "                                                     [key], {});\n",
              "          if (!dataTable) return;\n",
              "\n",
              "          const docLinkHtml = 'Like what you see? Visit the ' +\n",
              "            '<a target=\"_blank\" href=https://colab.research.google.com/notebooks/data_table.ipynb>data table notebook</a>'\n",
              "            + ' to learn more about interactive tables.';\n",
              "          element.innerHTML = '';\n",
              "          dataTable['output_type'] = 'display_data';\n",
              "          await google.colab.output.renderOutput(dataTable, element);\n",
              "          const docLink = document.createElement('div');\n",
              "          docLink.innerHTML = docLinkHtml;\n",
              "          element.appendChild(docLink);\n",
              "        }\n",
              "      </script>\n",
              "    </div>\n",
              "  </div>\n",
              "  "
            ]
          },
          "metadata": {},
          "execution_count": 21
        }
      ]
    },
    {
      "cell_type": "code",
      "source": [
        "df.describe()"
      ],
      "metadata": {
        "colab": {
          "base_uri": "https://localhost:8080/",
          "height": 300
        },
        "id": "L65LA6YEPUwG",
        "outputId": "a597dae2-0597-48ff-ce97-ffb9ce27a1b0"
      },
      "execution_count": null,
      "outputs": [
        {
          "output_type": "execute_result",
          "data": {
            "text/plain": [
              "       Nº DE VÍT HD  IDADE_PESSOA\n",
              "count        1055.0   1047.000000\n",
              "mean            1.0     35.862464\n",
              "std             0.0     13.751141\n",
              "min             1.0      1.000000\n",
              "25%             1.0     26.000000\n",
              "50%             1.0     34.000000\n",
              "75%             1.0     43.000000\n",
              "max             1.0     88.000000"
            ],
            "text/html": [
              "\n",
              "  <div id=\"df-71ec72df-4490-4637-862c-5cd84e8a1343\">\n",
              "    <div class=\"colab-df-container\">\n",
              "      <div>\n",
              "<style scoped>\n",
              "    .dataframe tbody tr th:only-of-type {\n",
              "        vertical-align: middle;\n",
              "    }\n",
              "\n",
              "    .dataframe tbody tr th {\n",
              "        vertical-align: top;\n",
              "    }\n",
              "\n",
              "    .dataframe thead th {\n",
              "        text-align: right;\n",
              "    }\n",
              "</style>\n",
              "<table border=\"1\" class=\"dataframe\">\n",
              "  <thead>\n",
              "    <tr style=\"text-align: right;\">\n",
              "      <th></th>\n",
              "      <th>Nº DE VÍT HD</th>\n",
              "      <th>IDADE_PESSOA</th>\n",
              "    </tr>\n",
              "  </thead>\n",
              "  <tbody>\n",
              "    <tr>\n",
              "      <th>count</th>\n",
              "      <td>1055.0</td>\n",
              "      <td>1047.000000</td>\n",
              "    </tr>\n",
              "    <tr>\n",
              "      <th>mean</th>\n",
              "      <td>1.0</td>\n",
              "      <td>35.862464</td>\n",
              "    </tr>\n",
              "    <tr>\n",
              "      <th>std</th>\n",
              "      <td>0.0</td>\n",
              "      <td>13.751141</td>\n",
              "    </tr>\n",
              "    <tr>\n",
              "      <th>min</th>\n",
              "      <td>1.0</td>\n",
              "      <td>1.000000</td>\n",
              "    </tr>\n",
              "    <tr>\n",
              "      <th>25%</th>\n",
              "      <td>1.0</td>\n",
              "      <td>26.000000</td>\n",
              "    </tr>\n",
              "    <tr>\n",
              "      <th>50%</th>\n",
              "      <td>1.0</td>\n",
              "      <td>34.000000</td>\n",
              "    </tr>\n",
              "    <tr>\n",
              "      <th>75%</th>\n",
              "      <td>1.0</td>\n",
              "      <td>43.000000</td>\n",
              "    </tr>\n",
              "    <tr>\n",
              "      <th>max</th>\n",
              "      <td>1.0</td>\n",
              "      <td>88.000000</td>\n",
              "    </tr>\n",
              "  </tbody>\n",
              "</table>\n",
              "</div>\n",
              "      <button class=\"colab-df-convert\" onclick=\"convertToInteractive('df-71ec72df-4490-4637-862c-5cd84e8a1343')\"\n",
              "              title=\"Convert this dataframe to an interactive table.\"\n",
              "              style=\"display:none;\">\n",
              "        \n",
              "  <svg xmlns=\"http://www.w3.org/2000/svg\" height=\"24px\"viewBox=\"0 0 24 24\"\n",
              "       width=\"24px\">\n",
              "    <path d=\"M0 0h24v24H0V0z\" fill=\"none\"/>\n",
              "    <path d=\"M18.56 5.44l.94 2.06.94-2.06 2.06-.94-2.06-.94-.94-2.06-.94 2.06-2.06.94zm-11 1L8.5 8.5l.94-2.06 2.06-.94-2.06-.94L8.5 2.5l-.94 2.06-2.06.94zm10 10l.94 2.06.94-2.06 2.06-.94-2.06-.94-.94-2.06-.94 2.06-2.06.94z\"/><path d=\"M17.41 7.96l-1.37-1.37c-.4-.4-.92-.59-1.43-.59-.52 0-1.04.2-1.43.59L10.3 9.45l-7.72 7.72c-.78.78-.78 2.05 0 2.83L4 21.41c.39.39.9.59 1.41.59.51 0 1.02-.2 1.41-.59l7.78-7.78 2.81-2.81c.8-.78.8-2.07 0-2.86zM5.41 20L4 18.59l7.72-7.72 1.47 1.35L5.41 20z\"/>\n",
              "  </svg>\n",
              "      </button>\n",
              "      \n",
              "  <style>\n",
              "    .colab-df-container {\n",
              "      display:flex;\n",
              "      flex-wrap:wrap;\n",
              "      gap: 12px;\n",
              "    }\n",
              "\n",
              "    .colab-df-convert {\n",
              "      background-color: #E8F0FE;\n",
              "      border: none;\n",
              "      border-radius: 50%;\n",
              "      cursor: pointer;\n",
              "      display: none;\n",
              "      fill: #1967D2;\n",
              "      height: 32px;\n",
              "      padding: 0 0 0 0;\n",
              "      width: 32px;\n",
              "    }\n",
              "\n",
              "    .colab-df-convert:hover {\n",
              "      background-color: #E2EBFA;\n",
              "      box-shadow: 0px 1px 2px rgba(60, 64, 67, 0.3), 0px 1px 3px 1px rgba(60, 64, 67, 0.15);\n",
              "      fill: #174EA6;\n",
              "    }\n",
              "\n",
              "    [theme=dark] .colab-df-convert {\n",
              "      background-color: #3B4455;\n",
              "      fill: #D2E3FC;\n",
              "    }\n",
              "\n",
              "    [theme=dark] .colab-df-convert:hover {\n",
              "      background-color: #434B5C;\n",
              "      box-shadow: 0px 1px 3px 1px rgba(0, 0, 0, 0.15);\n",
              "      filter: drop-shadow(0px 1px 2px rgba(0, 0, 0, 0.3));\n",
              "      fill: #FFFFFF;\n",
              "    }\n",
              "  </style>\n",
              "\n",
              "      <script>\n",
              "        const buttonEl =\n",
              "          document.querySelector('#df-71ec72df-4490-4637-862c-5cd84e8a1343 button.colab-df-convert');\n",
              "        buttonEl.style.display =\n",
              "          google.colab.kernel.accessAllowed ? 'block' : 'none';\n",
              "\n",
              "        async function convertToInteractive(key) {\n",
              "          const element = document.querySelector('#df-71ec72df-4490-4637-862c-5cd84e8a1343');\n",
              "          const dataTable =\n",
              "            await google.colab.kernel.invokeFunction('convertToInteractive',\n",
              "                                                     [key], {});\n",
              "          if (!dataTable) return;\n",
              "\n",
              "          const docLinkHtml = 'Like what you see? Visit the ' +\n",
              "            '<a target=\"_blank\" href=https://colab.research.google.com/notebooks/data_table.ipynb>data table notebook</a>'\n",
              "            + ' to learn more about interactive tables.';\n",
              "          element.innerHTML = '';\n",
              "          dataTable['output_type'] = 'display_data';\n",
              "          await google.colab.output.renderOutput(dataTable, element);\n",
              "          const docLink = document.createElement('div');\n",
              "          docLink.innerHTML = docLinkHtml;\n",
              "          element.appendChild(docLink);\n",
              "        }\n",
              "      </script>\n",
              "    </div>\n",
              "  </div>\n",
              "  "
            ]
          },
          "metadata": {},
          "execution_count": 22
        }
      ]
    },
    {
      "cell_type": "code",
      "source": [
        "df = df.drop((df[df.IDADE_PESSOA.isnull()]).index)"
      ],
      "metadata": {
        "id": "sUMOHOtaP2zI"
      },
      "execution_count": null,
      "outputs": []
    },
    {
      "cell_type": "markdown",
      "source": [
        "* ### Na coluna **IDADE_PESSOA** eu exclui as entradas que estavam nulas e mais para frente vou verificar se há outliers ou valores incorretos.\n",
        "## Na coluna **PROFISSAO** vou preencher com algum tipo para não excluir as entradas."
      ],
      "metadata": {
        "id": "lV9zswIDP-Ci"
      }
    },
    {
      "cell_type": "code",
      "source": [
        "df['PROFISSAO'].fillna('NÃO IDENTIFICADO', inplace=True)"
      ],
      "metadata": {
        "id": "4L_DCmwaP9HC"
      },
      "execution_count": null,
      "outputs": []
    },
    {
      "cell_type": "code",
      "source": [
        "df.isnull().sum()"
      ],
      "metadata": {
        "colab": {
          "base_uri": "https://localhost:8080/"
        },
        "id": "1cjfsHp5RJZB",
        "outputId": "74faf103-d3fa-4f83-83b8-a44d68823788"
      },
      "execution_count": null,
      "outputs": [
        {
          "output_type": "execute_result",
          "data": {
            "text/plain": [
              "MUNICIPIO_CIRCUNSCRICAO    0\n",
              "DP_CIRCUNSCRICAO           0\n",
              "Nº DE VÍT HD               0\n",
              "DATA_FATO                  0\n",
              "DESC_TIPOLOCAL             0\n",
              "TIPO_PESSOA                0\n",
              "SEXO_PESSOA                0\n",
              "IDADE_PESSOA               0\n",
              "DATA_NASCIMENTO_PESSOA     3\n",
              "COR_PELE                   0\n",
              "PROFISSAO                  0\n",
              "NATUREZA_APURADA           0\n",
              "DESDOBRAMENTO              0\n",
              "dtype: int64"
            ]
          },
          "metadata": {},
          "execution_count": 25
        }
      ]
    },
    {
      "cell_type": "code",
      "source": [
        "df[df['DATA_NASCIMENTO_PESSOA'].isnull()]"
      ],
      "metadata": {
        "colab": {
          "base_uri": "https://localhost:8080/",
          "height": 468
        },
        "id": "hgf3NUf4YH0F",
        "outputId": "70d09a8d-272f-43e7-82c4-ad2294897882"
      },
      "execution_count": null,
      "outputs": [
        {
          "output_type": "execute_result",
          "data": {
            "text/plain": [
              "    MUNICIPIO_CIRCUNSCRICAO            DP_CIRCUNSCRICAO   Nº DE VÍT HD  \\\n",
              "81                  Itapevi                 DM - Itapevi             1   \n",
              "171                  Agudos                  DM - Agudos             1   \n",
              "437               São Paulo  062 DP - Ermelino Matarazzo             1   \n",
              "\n",
              "     DATA_FATO    DESC_TIPOLOCAL TIPO_PESSOA SEXO_PESSOA  IDADE_PESSOA  \\\n",
              "81  2016-08-14        Residência      Vítima    Feminino          52.0   \n",
              "171 2017-08-14  Area não ocupada      Vítima    Feminino          24.0   \n",
              "437 2019-06-13        Residência      Vítima    Feminino          26.0   \n",
              "\n",
              "    DATA_NASCIMENTO_PESSOA COR_PELE           PROFISSAO  NATUREZA_APURADA  \\\n",
              "81                     NaT    Parda    NÃO IDENTIFICADO  HOMICÍDIO DOLOSO   \n",
              "171                    NaT   Branca    NÃO IDENTIFICADO  HOMICÍDIO DOLOSO   \n",
              "437                    NaT    Parda  PRENDAS DOMESTICAS  HOMICÍDIO DOLOSO   \n",
              "\n",
              "                                                           DESDOBRAMENTO  \n",
              "81   Feminicídio-contra a mulher por razões da condição de sexo feminino  \n",
              "171  Feminicídio-contra a mulher por razões da condição de sexo feminino  \n",
              "437  Feminicídio-contra a mulher por razões da condição de sexo feminino  "
            ],
            "text/html": [
              "\n",
              "  <div id=\"df-41e4fc6c-e511-4e49-95d5-4ba008d60e18\">\n",
              "    <div class=\"colab-df-container\">\n",
              "      <div>\n",
              "<style scoped>\n",
              "    .dataframe tbody tr th:only-of-type {\n",
              "        vertical-align: middle;\n",
              "    }\n",
              "\n",
              "    .dataframe tbody tr th {\n",
              "        vertical-align: top;\n",
              "    }\n",
              "\n",
              "    .dataframe thead th {\n",
              "        text-align: right;\n",
              "    }\n",
              "</style>\n",
              "<table border=\"1\" class=\"dataframe\">\n",
              "  <thead>\n",
              "    <tr style=\"text-align: right;\">\n",
              "      <th></th>\n",
              "      <th>MUNICIPIO_CIRCUNSCRICAO</th>\n",
              "      <th>DP_CIRCUNSCRICAO</th>\n",
              "      <th>Nº DE VÍT HD</th>\n",
              "      <th>DATA_FATO</th>\n",
              "      <th>DESC_TIPOLOCAL</th>\n",
              "      <th>TIPO_PESSOA</th>\n",
              "      <th>SEXO_PESSOA</th>\n",
              "      <th>IDADE_PESSOA</th>\n",
              "      <th>DATA_NASCIMENTO_PESSOA</th>\n",
              "      <th>COR_PELE</th>\n",
              "      <th>PROFISSAO</th>\n",
              "      <th>NATUREZA_APURADA</th>\n",
              "      <th>DESDOBRAMENTO</th>\n",
              "    </tr>\n",
              "  </thead>\n",
              "  <tbody>\n",
              "    <tr>\n",
              "      <th>81</th>\n",
              "      <td>Itapevi</td>\n",
              "      <td>DM - Itapevi</td>\n",
              "      <td>1</td>\n",
              "      <td>2016-08-14</td>\n",
              "      <td>Residência</td>\n",
              "      <td>Vítima</td>\n",
              "      <td>Feminino</td>\n",
              "      <td>52.0</td>\n",
              "      <td>NaT</td>\n",
              "      <td>Parda</td>\n",
              "      <td>NÃO IDENTIFICADO</td>\n",
              "      <td>HOMICÍDIO DOLOSO</td>\n",
              "      <td>Feminicídio-contra a mulher por razões da condição de sexo feminino</td>\n",
              "    </tr>\n",
              "    <tr>\n",
              "      <th>171</th>\n",
              "      <td>Agudos</td>\n",
              "      <td>DM - Agudos</td>\n",
              "      <td>1</td>\n",
              "      <td>2017-08-14</td>\n",
              "      <td>Area não ocupada</td>\n",
              "      <td>Vítima</td>\n",
              "      <td>Feminino</td>\n",
              "      <td>24.0</td>\n",
              "      <td>NaT</td>\n",
              "      <td>Branca</td>\n",
              "      <td>NÃO IDENTIFICADO</td>\n",
              "      <td>HOMICÍDIO DOLOSO</td>\n",
              "      <td>Feminicídio-contra a mulher por razões da condição de sexo feminino</td>\n",
              "    </tr>\n",
              "    <tr>\n",
              "      <th>437</th>\n",
              "      <td>São Paulo</td>\n",
              "      <td>062 DP - Ermelino Matarazzo</td>\n",
              "      <td>1</td>\n",
              "      <td>2019-06-13</td>\n",
              "      <td>Residência</td>\n",
              "      <td>Vítima</td>\n",
              "      <td>Feminino</td>\n",
              "      <td>26.0</td>\n",
              "      <td>NaT</td>\n",
              "      <td>Parda</td>\n",
              "      <td>PRENDAS DOMESTICAS</td>\n",
              "      <td>HOMICÍDIO DOLOSO</td>\n",
              "      <td>Feminicídio-contra a mulher por razões da condição de sexo feminino</td>\n",
              "    </tr>\n",
              "  </tbody>\n",
              "</table>\n",
              "</div>\n",
              "      <button class=\"colab-df-convert\" onclick=\"convertToInteractive('df-41e4fc6c-e511-4e49-95d5-4ba008d60e18')\"\n",
              "              title=\"Convert this dataframe to an interactive table.\"\n",
              "              style=\"display:none;\">\n",
              "        \n",
              "  <svg xmlns=\"http://www.w3.org/2000/svg\" height=\"24px\"viewBox=\"0 0 24 24\"\n",
              "       width=\"24px\">\n",
              "    <path d=\"M0 0h24v24H0V0z\" fill=\"none\"/>\n",
              "    <path d=\"M18.56 5.44l.94 2.06.94-2.06 2.06-.94-2.06-.94-.94-2.06-.94 2.06-2.06.94zm-11 1L8.5 8.5l.94-2.06 2.06-.94-2.06-.94L8.5 2.5l-.94 2.06-2.06.94zm10 10l.94 2.06.94-2.06 2.06-.94-2.06-.94-.94-2.06-.94 2.06-2.06.94z\"/><path d=\"M17.41 7.96l-1.37-1.37c-.4-.4-.92-.59-1.43-.59-.52 0-1.04.2-1.43.59L10.3 9.45l-7.72 7.72c-.78.78-.78 2.05 0 2.83L4 21.41c.39.39.9.59 1.41.59.51 0 1.02-.2 1.41-.59l7.78-7.78 2.81-2.81c.8-.78.8-2.07 0-2.86zM5.41 20L4 18.59l7.72-7.72 1.47 1.35L5.41 20z\"/>\n",
              "  </svg>\n",
              "      </button>\n",
              "      \n",
              "  <style>\n",
              "    .colab-df-container {\n",
              "      display:flex;\n",
              "      flex-wrap:wrap;\n",
              "      gap: 12px;\n",
              "    }\n",
              "\n",
              "    .colab-df-convert {\n",
              "      background-color: #E8F0FE;\n",
              "      border: none;\n",
              "      border-radius: 50%;\n",
              "      cursor: pointer;\n",
              "      display: none;\n",
              "      fill: #1967D2;\n",
              "      height: 32px;\n",
              "      padding: 0 0 0 0;\n",
              "      width: 32px;\n",
              "    }\n",
              "\n",
              "    .colab-df-convert:hover {\n",
              "      background-color: #E2EBFA;\n",
              "      box-shadow: 0px 1px 2px rgba(60, 64, 67, 0.3), 0px 1px 3px 1px rgba(60, 64, 67, 0.15);\n",
              "      fill: #174EA6;\n",
              "    }\n",
              "\n",
              "    [theme=dark] .colab-df-convert {\n",
              "      background-color: #3B4455;\n",
              "      fill: #D2E3FC;\n",
              "    }\n",
              "\n",
              "    [theme=dark] .colab-df-convert:hover {\n",
              "      background-color: #434B5C;\n",
              "      box-shadow: 0px 1px 3px 1px rgba(0, 0, 0, 0.15);\n",
              "      filter: drop-shadow(0px 1px 2px rgba(0, 0, 0, 0.3));\n",
              "      fill: #FFFFFF;\n",
              "    }\n",
              "  </style>\n",
              "\n",
              "      <script>\n",
              "        const buttonEl =\n",
              "          document.querySelector('#df-41e4fc6c-e511-4e49-95d5-4ba008d60e18 button.colab-df-convert');\n",
              "        buttonEl.style.display =\n",
              "          google.colab.kernel.accessAllowed ? 'block' : 'none';\n",
              "\n",
              "        async function convertToInteractive(key) {\n",
              "          const element = document.querySelector('#df-41e4fc6c-e511-4e49-95d5-4ba008d60e18');\n",
              "          const dataTable =\n",
              "            await google.colab.kernel.invokeFunction('convertToInteractive',\n",
              "                                                     [key], {});\n",
              "          if (!dataTable) return;\n",
              "\n",
              "          const docLinkHtml = 'Like what you see? Visit the ' +\n",
              "            '<a target=\"_blank\" href=https://colab.research.google.com/notebooks/data_table.ipynb>data table notebook</a>'\n",
              "            + ' to learn more about interactive tables.';\n",
              "          element.innerHTML = '';\n",
              "          dataTable['output_type'] = 'display_data';\n",
              "          await google.colab.output.renderOutput(dataTable, element);\n",
              "          const docLink = document.createElement('div');\n",
              "          docLink.innerHTML = docLinkHtml;\n",
              "          element.appendChild(docLink);\n",
              "        }\n",
              "      </script>\n",
              "    </div>\n",
              "  </div>\n",
              "  "
            ]
          },
          "metadata": {},
          "execution_count": 26
        }
      ]
    },
    {
      "cell_type": "markdown",
      "source": [
        "* ## Vou manter a coluna **DATA_NASCIMENTO_PESSOA** com os dados nulos sem preencher pois vou usar apenas para conferir a idade de algumas vítimas.\n"
      ],
      "metadata": {
        "id": "auu8BzPFIThT"
      }
    },
    {
      "cell_type": "code",
      "source": [
        "print(\"Começo dos registros:\",df['DATA_FATO'].min())\n",
        "print(\"Final dos registros\",df['DATA_FATO'].max())"
      ],
      "metadata": {
        "colab": {
          "base_uri": "https://localhost:8080/"
        },
        "id": "2y9cY3hpIhLz",
        "outputId": "2c4976ce-21aa-4ee8-bdc9-04c2fee53a5d"
      },
      "execution_count": null,
      "outputs": [
        {
          "output_type": "stream",
          "name": "stdout",
          "text": [
            "Começo dos registros: 2015-04-12 00:00:00\n",
            "Final dos registros 2022-12-29 00:00:00\n"
          ]
        }
      ]
    },
    {
      "cell_type": "markdown",
      "source": [
        "* ## Esse DataFrame contém registros entre os dias **12/04/2015** e **29/12/2022**."
      ],
      "metadata": {
        "id": "Q8PqPc5bKDrr"
      }
    },
    {
      "cell_type": "code",
      "source": [
        "df.IDADE_PESSOA.describe()"
      ],
      "metadata": {
        "colab": {
          "base_uri": "https://localhost:8080/"
        },
        "id": "amSbXA5HbV0j",
        "outputId": "9ad91aed-e34b-4797-8276-ed851a4b9ef8"
      },
      "execution_count": null,
      "outputs": [
        {
          "output_type": "execute_result",
          "data": {
            "text/plain": [
              "count    1047.000000\n",
              "mean       35.862464\n",
              "std        13.751141\n",
              "min         1.000000\n",
              "25%        26.000000\n",
              "50%        34.000000\n",
              "75%        43.000000\n",
              "max        88.000000\n",
              "Name: IDADE_PESSOA, dtype: float64"
            ]
          },
          "metadata": {},
          "execution_count": 28
        }
      ]
    },
    {
      "cell_type": "code",
      "source": [
        "print(\"Total de registros:\",df.shape[0])\n",
        "print(\"Entre 0 e 11 anos:\",df[df['IDADE_PESSOA'].between(0,11)].shape[0])\n",
        "print(\"Entre 12 e 17 anos:\",df[df['IDADE_PESSOA'].between(12,17)].shape[0])\n",
        "print(\"Entre 18 e 59 anos:\",df[df['IDADE_PESSOA'].between(18,59)].shape[0])\n",
        "print(\"Acima de 60 anos:\",format(len(df[df.IDADE_PESSOA > 59])))"
      ],
      "metadata": {
        "colab": {
          "base_uri": "https://localhost:8080/"
        },
        "id": "a_c2kZNbetcz",
        "outputId": "09d10324-692f-4976-bc59-f7ea060e3190"
      },
      "execution_count": null,
      "outputs": [
        {
          "output_type": "stream",
          "name": "stdout",
          "text": [
            "Total de registros: 1047\n",
            "Entre 0 e 11 anos: 15\n",
            "Entre 12 e 17 anos: 35\n",
            "Entre 18 e 59 anos: 934\n",
            "Acima de 60 anos: 63\n"
          ]
        }
      ]
    },
    {
      "cell_type": "code",
      "source": [
        "df.loc[df['IDADE_PESSOA'] == 88]"
      ],
      "metadata": {
        "colab": {
          "base_uri": "https://localhost:8080/",
          "height": 266
        },
        "id": "eHJRO-G1DJ7s",
        "outputId": "c20f04a2-2650-4abd-c157-d36a6c674ce9"
      },
      "execution_count": null,
      "outputs": [
        {
          "output_type": "execute_result",
          "data": {
            "text/plain": [
              "    MUNICIPIO_CIRCUNSCRICAO   DP_CIRCUNSCRICAO   Nº DE VÍT HD  DATA_FATO  \\\n",
              "529               São Paulo  020 DP - Água Fria             1 2019-12-23   \n",
              "\n",
              "    DESC_TIPOLOCAL TIPO_PESSOA SEXO_PESSOA  IDADE_PESSOA  \\\n",
              "529     Residência      Vítima    Feminino          88.0   \n",
              "\n",
              "    DATA_NASCIMENTO_PESSOA COR_PELE    PROFISSAO  NATUREZA_APURADA  \\\n",
              "529             1931-10-26    Preta  PENSIONISTA  HOMICÍDIO DOLOSO   \n",
              "\n",
              "                                                           DESDOBRAMENTO  \n",
              "529  Feminicídio-contra a mulher por razões da condição de sexo feminino  "
            ],
            "text/html": [
              "\n",
              "  <div id=\"df-c3ebc087-e59e-4101-a137-bc4a87f91e3b\">\n",
              "    <div class=\"colab-df-container\">\n",
              "      <div>\n",
              "<style scoped>\n",
              "    .dataframe tbody tr th:only-of-type {\n",
              "        vertical-align: middle;\n",
              "    }\n",
              "\n",
              "    .dataframe tbody tr th {\n",
              "        vertical-align: top;\n",
              "    }\n",
              "\n",
              "    .dataframe thead th {\n",
              "        text-align: right;\n",
              "    }\n",
              "</style>\n",
              "<table border=\"1\" class=\"dataframe\">\n",
              "  <thead>\n",
              "    <tr style=\"text-align: right;\">\n",
              "      <th></th>\n",
              "      <th>MUNICIPIO_CIRCUNSCRICAO</th>\n",
              "      <th>DP_CIRCUNSCRICAO</th>\n",
              "      <th>Nº DE VÍT HD</th>\n",
              "      <th>DATA_FATO</th>\n",
              "      <th>DESC_TIPOLOCAL</th>\n",
              "      <th>TIPO_PESSOA</th>\n",
              "      <th>SEXO_PESSOA</th>\n",
              "      <th>IDADE_PESSOA</th>\n",
              "      <th>DATA_NASCIMENTO_PESSOA</th>\n",
              "      <th>COR_PELE</th>\n",
              "      <th>PROFISSAO</th>\n",
              "      <th>NATUREZA_APURADA</th>\n",
              "      <th>DESDOBRAMENTO</th>\n",
              "    </tr>\n",
              "  </thead>\n",
              "  <tbody>\n",
              "    <tr>\n",
              "      <th>529</th>\n",
              "      <td>São Paulo</td>\n",
              "      <td>020 DP - Água Fria</td>\n",
              "      <td>1</td>\n",
              "      <td>2019-12-23</td>\n",
              "      <td>Residência</td>\n",
              "      <td>Vítima</td>\n",
              "      <td>Feminino</td>\n",
              "      <td>88.0</td>\n",
              "      <td>1931-10-26</td>\n",
              "      <td>Preta</td>\n",
              "      <td>PENSIONISTA</td>\n",
              "      <td>HOMICÍDIO DOLOSO</td>\n",
              "      <td>Feminicídio-contra a mulher por razões da condição de sexo feminino</td>\n",
              "    </tr>\n",
              "  </tbody>\n",
              "</table>\n",
              "</div>\n",
              "      <button class=\"colab-df-convert\" onclick=\"convertToInteractive('df-c3ebc087-e59e-4101-a137-bc4a87f91e3b')\"\n",
              "              title=\"Convert this dataframe to an interactive table.\"\n",
              "              style=\"display:none;\">\n",
              "        \n",
              "  <svg xmlns=\"http://www.w3.org/2000/svg\" height=\"24px\"viewBox=\"0 0 24 24\"\n",
              "       width=\"24px\">\n",
              "    <path d=\"M0 0h24v24H0V0z\" fill=\"none\"/>\n",
              "    <path d=\"M18.56 5.44l.94 2.06.94-2.06 2.06-.94-2.06-.94-.94-2.06-.94 2.06-2.06.94zm-11 1L8.5 8.5l.94-2.06 2.06-.94-2.06-.94L8.5 2.5l-.94 2.06-2.06.94zm10 10l.94 2.06.94-2.06 2.06-.94-2.06-.94-.94-2.06-.94 2.06-2.06.94z\"/><path d=\"M17.41 7.96l-1.37-1.37c-.4-.4-.92-.59-1.43-.59-.52 0-1.04.2-1.43.59L10.3 9.45l-7.72 7.72c-.78.78-.78 2.05 0 2.83L4 21.41c.39.39.9.59 1.41.59.51 0 1.02-.2 1.41-.59l7.78-7.78 2.81-2.81c.8-.78.8-2.07 0-2.86zM5.41 20L4 18.59l7.72-7.72 1.47 1.35L5.41 20z\"/>\n",
              "  </svg>\n",
              "      </button>\n",
              "      \n",
              "  <style>\n",
              "    .colab-df-container {\n",
              "      display:flex;\n",
              "      flex-wrap:wrap;\n",
              "      gap: 12px;\n",
              "    }\n",
              "\n",
              "    .colab-df-convert {\n",
              "      background-color: #E8F0FE;\n",
              "      border: none;\n",
              "      border-radius: 50%;\n",
              "      cursor: pointer;\n",
              "      display: none;\n",
              "      fill: #1967D2;\n",
              "      height: 32px;\n",
              "      padding: 0 0 0 0;\n",
              "      width: 32px;\n",
              "    }\n",
              "\n",
              "    .colab-df-convert:hover {\n",
              "      background-color: #E2EBFA;\n",
              "      box-shadow: 0px 1px 2px rgba(60, 64, 67, 0.3), 0px 1px 3px 1px rgba(60, 64, 67, 0.15);\n",
              "      fill: #174EA6;\n",
              "    }\n",
              "\n",
              "    [theme=dark] .colab-df-convert {\n",
              "      background-color: #3B4455;\n",
              "      fill: #D2E3FC;\n",
              "    }\n",
              "\n",
              "    [theme=dark] .colab-df-convert:hover {\n",
              "      background-color: #434B5C;\n",
              "      box-shadow: 0px 1px 3px 1px rgba(0, 0, 0, 0.15);\n",
              "      filter: drop-shadow(0px 1px 2px rgba(0, 0, 0, 0.3));\n",
              "      fill: #FFFFFF;\n",
              "    }\n",
              "  </style>\n",
              "\n",
              "      <script>\n",
              "        const buttonEl =\n",
              "          document.querySelector('#df-c3ebc087-e59e-4101-a137-bc4a87f91e3b button.colab-df-convert');\n",
              "        buttonEl.style.display =\n",
              "          google.colab.kernel.accessAllowed ? 'block' : 'none';\n",
              "\n",
              "        async function convertToInteractive(key) {\n",
              "          const element = document.querySelector('#df-c3ebc087-e59e-4101-a137-bc4a87f91e3b');\n",
              "          const dataTable =\n",
              "            await google.colab.kernel.invokeFunction('convertToInteractive',\n",
              "                                                     [key], {});\n",
              "          if (!dataTable) return;\n",
              "\n",
              "          const docLinkHtml = 'Like what you see? Visit the ' +\n",
              "            '<a target=\"_blank\" href=https://colab.research.google.com/notebooks/data_table.ipynb>data table notebook</a>'\n",
              "            + ' to learn more about interactive tables.';\n",
              "          element.innerHTML = '';\n",
              "          dataTable['output_type'] = 'display_data';\n",
              "          await google.colab.output.renderOutput(dataTable, element);\n",
              "          const docLink = document.createElement('div');\n",
              "          docLink.innerHTML = docLinkHtml;\n",
              "          element.appendChild(docLink);\n",
              "        }\n",
              "      </script>\n",
              "    </div>\n",
              "  </div>\n",
              "  "
            ]
          },
          "metadata": {},
          "execution_count": 30
        }
      ]
    },
    {
      "cell_type": "markdown",
      "source": [
        "* ## O caso de feminicídio com a mulher mais velha desse DataFrame envolve uma senhora de **88 anos**, que ocorreu na **Capital** de São Paulo, dia **23/12/2019** em sua residência, era uma mulher **preta** e **pensionista**."
      ],
      "metadata": {
        "id": "GkU53HTuDVgw"
      }
    },
    {
      "cell_type": "code",
      "source": [
        "df.loc[df['IDADE_PESSOA'] == 1]"
      ],
      "metadata": {
        "colab": {
          "base_uri": "https://localhost:8080/",
          "height": 266
        },
        "id": "UoZJirfqDRbD",
        "outputId": "98d00b26-68d0-41a3-e8a5-7788ed68f712"
      },
      "execution_count": null,
      "outputs": [
        {
          "output_type": "execute_result",
          "data": {
            "text/plain": [
              "    MUNICIPIO_CIRCUNSCRICAO DP_CIRCUNSCRICAO   Nº DE VÍT HD  DATA_FATO  \\\n",
              "890               Penápolis    DM - Penapolis             1 2022-02-14   \n",
              "\n",
              "    DESC_TIPOLOCAL TIPO_PESSOA SEXO_PESSOA  IDADE_PESSOA  \\\n",
              "890     Residência      Vítima    Feminino           1.0   \n",
              "\n",
              "    DATA_NASCIMENTO_PESSOA COR_PELE         PROFISSAO  NATUREZA_APURADA  \\\n",
              "890             2020-11-06   Branca  NÃO IDENTIFICADO  HOMICÍDIO DOLOSO   \n",
              "\n",
              "                                                           DESDOBRAMENTO  \n",
              "890  Feminicídio-contra a mulher por razões da condição de sexo feminino  "
            ],
            "text/html": [
              "\n",
              "  <div id=\"df-695450b7-118c-4607-80f1-39c6f91986b6\">\n",
              "    <div class=\"colab-df-container\">\n",
              "      <div>\n",
              "<style scoped>\n",
              "    .dataframe tbody tr th:only-of-type {\n",
              "        vertical-align: middle;\n",
              "    }\n",
              "\n",
              "    .dataframe tbody tr th {\n",
              "        vertical-align: top;\n",
              "    }\n",
              "\n",
              "    .dataframe thead th {\n",
              "        text-align: right;\n",
              "    }\n",
              "</style>\n",
              "<table border=\"1\" class=\"dataframe\">\n",
              "  <thead>\n",
              "    <tr style=\"text-align: right;\">\n",
              "      <th></th>\n",
              "      <th>MUNICIPIO_CIRCUNSCRICAO</th>\n",
              "      <th>DP_CIRCUNSCRICAO</th>\n",
              "      <th>Nº DE VÍT HD</th>\n",
              "      <th>DATA_FATO</th>\n",
              "      <th>DESC_TIPOLOCAL</th>\n",
              "      <th>TIPO_PESSOA</th>\n",
              "      <th>SEXO_PESSOA</th>\n",
              "      <th>IDADE_PESSOA</th>\n",
              "      <th>DATA_NASCIMENTO_PESSOA</th>\n",
              "      <th>COR_PELE</th>\n",
              "      <th>PROFISSAO</th>\n",
              "      <th>NATUREZA_APURADA</th>\n",
              "      <th>DESDOBRAMENTO</th>\n",
              "    </tr>\n",
              "  </thead>\n",
              "  <tbody>\n",
              "    <tr>\n",
              "      <th>890</th>\n",
              "      <td>Penápolis</td>\n",
              "      <td>DM - Penapolis</td>\n",
              "      <td>1</td>\n",
              "      <td>2022-02-14</td>\n",
              "      <td>Residência</td>\n",
              "      <td>Vítima</td>\n",
              "      <td>Feminino</td>\n",
              "      <td>1.0</td>\n",
              "      <td>2020-11-06</td>\n",
              "      <td>Branca</td>\n",
              "      <td>NÃO IDENTIFICADO</td>\n",
              "      <td>HOMICÍDIO DOLOSO</td>\n",
              "      <td>Feminicídio-contra a mulher por razões da condição de sexo feminino</td>\n",
              "    </tr>\n",
              "  </tbody>\n",
              "</table>\n",
              "</div>\n",
              "      <button class=\"colab-df-convert\" onclick=\"convertToInteractive('df-695450b7-118c-4607-80f1-39c6f91986b6')\"\n",
              "              title=\"Convert this dataframe to an interactive table.\"\n",
              "              style=\"display:none;\">\n",
              "        \n",
              "  <svg xmlns=\"http://www.w3.org/2000/svg\" height=\"24px\"viewBox=\"0 0 24 24\"\n",
              "       width=\"24px\">\n",
              "    <path d=\"M0 0h24v24H0V0z\" fill=\"none\"/>\n",
              "    <path d=\"M18.56 5.44l.94 2.06.94-2.06 2.06-.94-2.06-.94-.94-2.06-.94 2.06-2.06.94zm-11 1L8.5 8.5l.94-2.06 2.06-.94-2.06-.94L8.5 2.5l-.94 2.06-2.06.94zm10 10l.94 2.06.94-2.06 2.06-.94-2.06-.94-.94-2.06-.94 2.06-2.06.94z\"/><path d=\"M17.41 7.96l-1.37-1.37c-.4-.4-.92-.59-1.43-.59-.52 0-1.04.2-1.43.59L10.3 9.45l-7.72 7.72c-.78.78-.78 2.05 0 2.83L4 21.41c.39.39.9.59 1.41.59.51 0 1.02-.2 1.41-.59l7.78-7.78 2.81-2.81c.8-.78.8-2.07 0-2.86zM5.41 20L4 18.59l7.72-7.72 1.47 1.35L5.41 20z\"/>\n",
              "  </svg>\n",
              "      </button>\n",
              "      \n",
              "  <style>\n",
              "    .colab-df-container {\n",
              "      display:flex;\n",
              "      flex-wrap:wrap;\n",
              "      gap: 12px;\n",
              "    }\n",
              "\n",
              "    .colab-df-convert {\n",
              "      background-color: #E8F0FE;\n",
              "      border: none;\n",
              "      border-radius: 50%;\n",
              "      cursor: pointer;\n",
              "      display: none;\n",
              "      fill: #1967D2;\n",
              "      height: 32px;\n",
              "      padding: 0 0 0 0;\n",
              "      width: 32px;\n",
              "    }\n",
              "\n",
              "    .colab-df-convert:hover {\n",
              "      background-color: #E2EBFA;\n",
              "      box-shadow: 0px 1px 2px rgba(60, 64, 67, 0.3), 0px 1px 3px 1px rgba(60, 64, 67, 0.15);\n",
              "      fill: #174EA6;\n",
              "    }\n",
              "\n",
              "    [theme=dark] .colab-df-convert {\n",
              "      background-color: #3B4455;\n",
              "      fill: #D2E3FC;\n",
              "    }\n",
              "\n",
              "    [theme=dark] .colab-df-convert:hover {\n",
              "      background-color: #434B5C;\n",
              "      box-shadow: 0px 1px 3px 1px rgba(0, 0, 0, 0.15);\n",
              "      filter: drop-shadow(0px 1px 2px rgba(0, 0, 0, 0.3));\n",
              "      fill: #FFFFFF;\n",
              "    }\n",
              "  </style>\n",
              "\n",
              "      <script>\n",
              "        const buttonEl =\n",
              "          document.querySelector('#df-695450b7-118c-4607-80f1-39c6f91986b6 button.colab-df-convert');\n",
              "        buttonEl.style.display =\n",
              "          google.colab.kernel.accessAllowed ? 'block' : 'none';\n",
              "\n",
              "        async function convertToInteractive(key) {\n",
              "          const element = document.querySelector('#df-695450b7-118c-4607-80f1-39c6f91986b6');\n",
              "          const dataTable =\n",
              "            await google.colab.kernel.invokeFunction('convertToInteractive',\n",
              "                                                     [key], {});\n",
              "          if (!dataTable) return;\n",
              "\n",
              "          const docLinkHtml = 'Like what you see? Visit the ' +\n",
              "            '<a target=\"_blank\" href=https://colab.research.google.com/notebooks/data_table.ipynb>data table notebook</a>'\n",
              "            + ' to learn more about interactive tables.';\n",
              "          element.innerHTML = '';\n",
              "          dataTable['output_type'] = 'display_data';\n",
              "          await google.colab.output.renderOutput(dataTable, element);\n",
              "          const docLink = document.createElement('div');\n",
              "          docLink.innerHTML = docLinkHtml;\n",
              "          element.appendChild(docLink);\n",
              "        }\n",
              "      </script>\n",
              "    </div>\n",
              "  </div>\n",
              "  "
            ]
          },
          "metadata": {},
          "execution_count": 31
        }
      ]
    },
    {
      "cell_type": "markdown",
      "source": [
        "* ## O caso de feminicídio com a mulher mais nova desse DataFrame envolve um bebê de apenas **1 ano** da cor **branca**, que ocorreu em **Penápolis**, dia **14/02/2022** em uma residência."
      ],
      "metadata": {
        "id": "Aqu-ZUSUHLTu"
      }
    },
    {
      "cell_type": "code",
      "source": [
        "print(\"Total de registros:\",df.shape[0])\n",
        "print(\"Entre 0 e 11 anos:\",df[df['IDADE_PESSOA'].between(0,11)].shape[0]/df.shape[0]*100,\"%\")\n",
        "print(\"Entre 12 e 17 anos:\",df[df['IDADE_PESSOA'].between(12,17)].shape[0]/df.shape[0]*100,\"%\")\n",
        "print(\"Entre 18 e 59 anos:\",df[df['IDADE_PESSOA'].between(18,59)].shape[0]/df.shape[0]*100,\"%\")\n",
        "print(\"Acima de 60 anos:\",format(len(df[df.IDADE_PESSOA > 59])/df.shape[0]*100),\"%\")"
      ],
      "metadata": {
        "colab": {
          "base_uri": "https://localhost:8080/"
        },
        "id": "AT7nsU3jk_6h",
        "outputId": "9c73855f-5ecf-4c53-e3f0-d5c78b9371d6"
      },
      "execution_count": null,
      "outputs": [
        {
          "output_type": "stream",
          "name": "stdout",
          "text": [
            "Total de registros: 1047\n",
            "Entre 0 e 11 anos: 1.4326647564469914 %\n",
            "Entre 12 e 17 anos: 3.3428844317096464 %\n",
            "Entre 18 e 59 anos: 89.207258834766 %\n",
            "Acima de 60 anos: 6.017191977077363 %\n"
          ]
        }
      ]
    },
    {
      "cell_type": "markdown",
      "source": [
        "## **Feminicío por faixa etária:**\n",
        "* #### **TOTAL DE REGISTROS: 1047 óbitos.**\n",
        "* #### **Entre 0 e 11 anos:** 15 óbitos (**1,4%** dos registros)\n",
        "* #### **Entre 12 e 17 anos:** 35 óbitos (**3,3%** dos registros)\n",
        "* #### **Entre 18 e 59 anos:** 934 óbitos (**89,2%** dos registros)\n",
        "* #### **Acima de 60 anos:** 63 óbitos (**6%** dos registros)"
      ],
      "metadata": {
        "id": "rL0yzPzckOdr"
      }
    },
    {
      "cell_type": "code",
      "source": [
        "fig, ax = plt.subplots(figsize=(14,8), dpi=72)\n",
        "\n",
        "plt.hist(df.IDADE_PESSOA, color='red', width=10)\n",
        "ax.set_title(\"HISTOGRAMA DAS IDADES DAS VÍTIMAS\", fontsize=16)\n",
        "ax.set_ylabel('VÍTIMAS', fontsize=14)\n",
        "ax.set_xlabel('IDADES', fontsize=14)\n",
        "ax.tick_params(axis='both', labelsize=14)\n",
        "ax.set_xticks(range(0,91,5))\n",
        "ax.set_yticks(range(0,301,25))\n",
        "ax.spines[:].set_visible(False)\n",
        "\n",
        "plt.show()"
      ],
      "metadata": {
        "colab": {
          "base_uri": "https://localhost:8080/",
          "height": 523
        },
        "id": "lpf-kpj5rNtp",
        "outputId": "11a1c6fb-163e-4f17-fee8-647c0adc4ea7"
      },
      "execution_count": null,
      "outputs": [
        {
          "output_type": "display_data",
          "data": {
            "text/plain": [
              "<Figure size 1008x576 with 1 Axes>"
            ],
            "image/png": "[encoded data removed]"
          },
          "metadata": {
            "needs_background": "light"
          }
        }
      ]
    },
    {
      "cell_type": "markdown",
      "source": [
        "* ### Há uma concentração maior de casos entre **18 e 45 anos**."
      ],
      "metadata": {
        "id": "RPM07_MO18ag"
      }
    },
    {
      "cell_type": "code",
      "source": [
        "df['IDADE_PESSOA'].value_counts().head()/df.shape[0]*100"
      ],
      "metadata": {
        "colab": {
          "base_uri": "https://localhost:8080/"
        },
        "id": "uXQNKqlVvEoF",
        "outputId": "26c5747d-372a-4e8b-dd5d-306f93125957"
      },
      "execution_count": null,
      "outputs": [
        {
          "output_type": "execute_result",
          "data": {
            "text/plain": [
              "31.0    3.820439\n",
              "34.0    3.629417\n",
              "35.0    3.533906\n",
              "27.0    3.533906\n",
              "28.0    3.438395\n",
              "Name: IDADE_PESSOA, dtype: float64"
            ]
          },
          "metadata": {},
          "execution_count": 34
        }
      ]
    },
    {
      "cell_type": "markdown",
      "source": [
        "\n",
        "\n",
        "---\n",
        "\n"
      ],
      "metadata": {
        "id": "gsmwX2UQZkqR"
      }
    },
    {
      "cell_type": "code",
      "source": [
        "cor = pd.DataFrame(df.groupby(['COR_PELE']).sum().sort_values(by='Nº DE VÍT HD', ascending=False))"
      ],
      "metadata": {
        "id": "-3fwiBh75nWg"
      },
      "execution_count": null,
      "outputs": []
    },
    {
      "cell_type": "code",
      "source": [
        "fig, ax = plt.subplots(figsize=(10,8), dpi=72)\n",
        "\n",
        "corvit = ax.bar(cor.index, cor['Nº DE VÍT HD'] ,color='red',)\n",
        "ax.set_title(\"VÍTIMAS POR COR\", fontsize=20)\n",
        "ax.tick_params(axis='both', labelsize=15)\n",
        "ax.set_yticks(range(0,601,50))\n",
        "ax.spines[:].set_visible(False)\n",
        "ax.bar_label(corvit, fmt='%.f', fontsize=14)\n",
        "ax.yaxis.set_visible(False)\n",
        "\n",
        "plt.show()"
      ],
      "metadata": {
        "colab": {
          "base_uri": "https://localhost:8080/",
          "height": 509
        },
        "id": "oiwkc0-_4St9",
        "outputId": "fe4b31dc-0654-4a3d-a423-63771631ef5d"
      },
      "execution_count": null,
      "outputs": [
        {
          "output_type": "display_data",
          "data": {
            "text/plain": [
              "<Figure size 720x576 with 1 Axes>"
            ],
            "image/png": "[encoded data removed]"
          },
          "metadata": {
            "needs_background": "light"
          }
        }
      ]
    },
    {
      "cell_type": "code",
      "source": [
        "cor['Nº DE VÍT HD']/1047*100"
      ],
      "metadata": {
        "colab": {
          "base_uri": "https://localhost:8080/"
        },
        "id": "KaPutp517I6j",
        "outputId": "b3cc8335-1c39-4848-bce1-3547bcdef002"
      },
      "execution_count": null,
      "outputs": [
        {
          "output_type": "execute_result",
          "data": {
            "text/plain": [
              "COR_PELE\n",
              "Branca      57.497612\n",
              "Parda       34.861509\n",
              "Preta        6.781280\n",
              "Amarela      0.382044\n",
              "Ignorada     0.382044\n",
              "Outros       0.095511\n",
              "Name: Nº DE VÍT HD, dtype: float64"
            ]
          },
          "metadata": {},
          "execution_count": 37
        }
      ]
    },
    {
      "cell_type": "markdown",
      "source": [
        "* ## **Feminicídio por cores:**\n",
        "* ### **57,5%** dos casos de feminicídio são contra a mulher **branca**.\n",
        "* ### **34,9%** dos casos de feminicídio são contra a mulher **parda**.\n",
        "* ### **6,8%** dos casos de feminicídio são contra a mulher **preta**.\n",
        "* ### **0,8%** dos registros são de mulheres da cor **amarela** e cores não especificadas."
      ],
      "metadata": {
        "id": "LkolSTaE7F6f"
      }
    },
    {
      "cell_type": "markdown",
      "source": [
        "\n",
        "\n",
        "---\n",
        "\n"
      ],
      "metadata": {
        "id": "v6XBTclqHl90"
      }
    },
    {
      "cell_type": "code",
      "source": [
        "df[:1]"
      ],
      "metadata": {
        "colab": {
          "base_uri": "https://localhost:8080/",
          "height": 266
        },
        "id": "JsAa9tw84Sr2",
        "outputId": "312979ae-67fc-435a-8273-974b5abca301"
      },
      "execution_count": null,
      "outputs": [
        {
          "output_type": "execute_result",
          "data": {
            "text/plain": [
              "  MUNICIPIO_CIRCUNSCRICAO DP_CIRCUNSCRICAO   Nº DE VÍT HD  DATA_FATO  \\\n",
              "0                 Itupeva      DM - Itupeva             1 2015-04-12   \n",
              "\n",
              "   DESC_TIPOLOCAL TIPO_PESSOA SEXO_PESSOA  IDADE_PESSOA  \\\n",
              "0  Templo e afins      Vítima    Feminino          44.0   \n",
              "\n",
              "  DATA_NASCIMENTO_PESSOA COR_PELE      PROFISSAO  NATUREZA_APURADA  \\\n",
              "0             1970-04-16   Branca  COSTUREIRO(A)  HOMICÍDIO DOLOSO   \n",
              "\n",
              "                                                         DESDOBRAMENTO  \n",
              "0  Feminicídio-contra a mulher por razões da condição de sexo feminino  "
            ],
            "text/html": [
              "\n",
              "  <div id=\"df-7d009544-d497-4427-a933-9b020a17aaf5\">\n",
              "    <div class=\"colab-df-container\">\n",
              "      <div>\n",
              "<style scoped>\n",
              "    .dataframe tbody tr th:only-of-type {\n",
              "        vertical-align: middle;\n",
              "    }\n",
              "\n",
              "    .dataframe tbody tr th {\n",
              "        vertical-align: top;\n",
              "    }\n",
              "\n",
              "    .dataframe thead th {\n",
              "        text-align: right;\n",
              "    }\n",
              "</style>\n",
              "<table border=\"1\" class=\"dataframe\">\n",
              "  <thead>\n",
              "    <tr style=\"text-align: right;\">\n",
              "      <th></th>\n",
              "      <th>MUNICIPIO_CIRCUNSCRICAO</th>\n",
              "      <th>DP_CIRCUNSCRICAO</th>\n",
              "      <th>Nº DE VÍT HD</th>\n",
              "      <th>DATA_FATO</th>\n",
              "      <th>DESC_TIPOLOCAL</th>\n",
              "      <th>TIPO_PESSOA</th>\n",
              "      <th>SEXO_PESSOA</th>\n",
              "      <th>IDADE_PESSOA</th>\n",
              "      <th>DATA_NASCIMENTO_PESSOA</th>\n",
              "      <th>COR_PELE</th>\n",
              "      <th>PROFISSAO</th>\n",
              "      <th>NATUREZA_APURADA</th>\n",
              "      <th>DESDOBRAMENTO</th>\n",
              "    </tr>\n",
              "  </thead>\n",
              "  <tbody>\n",
              "    <tr>\n",
              "      <th>0</th>\n",
              "      <td>Itupeva</td>\n",
              "      <td>DM - Itupeva</td>\n",
              "      <td>1</td>\n",
              "      <td>2015-04-12</td>\n",
              "      <td>Templo e afins</td>\n",
              "      <td>Vítima</td>\n",
              "      <td>Feminino</td>\n",
              "      <td>44.0</td>\n",
              "      <td>1970-04-16</td>\n",
              "      <td>Branca</td>\n",
              "      <td>COSTUREIRO(A)</td>\n",
              "      <td>HOMICÍDIO DOLOSO</td>\n",
              "      <td>Feminicídio-contra a mulher por razões da condição de sexo feminino</td>\n",
              "    </tr>\n",
              "  </tbody>\n",
              "</table>\n",
              "</div>\n",
              "      <button class=\"colab-df-convert\" onclick=\"convertToInteractive('df-7d009544-d497-4427-a933-9b020a17aaf5')\"\n",
              "              title=\"Convert this dataframe to an interactive table.\"\n",
              "              style=\"display:none;\">\n",
              "        \n",
              "  <svg xmlns=\"http://www.w3.org/2000/svg\" height=\"24px\"viewBox=\"0 0 24 24\"\n",
              "       width=\"24px\">\n",
              "    <path d=\"M0 0h24v24H0V0z\" fill=\"none\"/>\n",
              "    <path d=\"M18.56 5.44l.94 2.06.94-2.06 2.06-.94-2.06-.94-.94-2.06-.94 2.06-2.06.94zm-11 1L8.5 8.5l.94-2.06 2.06-.94-2.06-.94L8.5 2.5l-.94 2.06-2.06.94zm10 10l.94 2.06.94-2.06 2.06-.94-2.06-.94-.94-2.06-.94 2.06-2.06.94z\"/><path d=\"M17.41 7.96l-1.37-1.37c-.4-.4-.92-.59-1.43-.59-.52 0-1.04.2-1.43.59L10.3 9.45l-7.72 7.72c-.78.78-.78 2.05 0 2.83L4 21.41c.39.39.9.59 1.41.59.51 0 1.02-.2 1.41-.59l7.78-7.78 2.81-2.81c.8-.78.8-2.07 0-2.86zM5.41 20L4 18.59l7.72-7.72 1.47 1.35L5.41 20z\"/>\n",
              "  </svg>\n",
              "      </button>\n",
              "      \n",
              "  <style>\n",
              "    .colab-df-container {\n",
              "      display:flex;\n",
              "      flex-wrap:wrap;\n",
              "      gap: 12px;\n",
              "    }\n",
              "\n",
              "    .colab-df-convert {\n",
              "      background-color: #E8F0FE;\n",
              "      border: none;\n",
              "      border-radius: 50%;\n",
              "      cursor: pointer;\n",
              "      display: none;\n",
              "      fill: #1967D2;\n",
              "      height: 32px;\n",
              "      padding: 0 0 0 0;\n",
              "      width: 32px;\n",
              "    }\n",
              "\n",
              "    .colab-df-convert:hover {\n",
              "      background-color: #E2EBFA;\n",
              "      box-shadow: 0px 1px 2px rgba(60, 64, 67, 0.3), 0px 1px 3px 1px rgba(60, 64, 67, 0.15);\n",
              "      fill: #174EA6;\n",
              "    }\n",
              "\n",
              "    [theme=dark] .colab-df-convert {\n",
              "      background-color: #3B4455;\n",
              "      fill: #D2E3FC;\n",
              "    }\n",
              "\n",
              "    [theme=dark] .colab-df-convert:hover {\n",
              "      background-color: #434B5C;\n",
              "      box-shadow: 0px 1px 3px 1px rgba(0, 0, 0, 0.15);\n",
              "      filter: drop-shadow(0px 1px 2px rgba(0, 0, 0, 0.3));\n",
              "      fill: #FFFFFF;\n",
              "    }\n",
              "  </style>\n",
              "\n",
              "      <script>\n",
              "        const buttonEl =\n",
              "          document.querySelector('#df-7d009544-d497-4427-a933-9b020a17aaf5 button.colab-df-convert');\n",
              "        buttonEl.style.display =\n",
              "          google.colab.kernel.accessAllowed ? 'block' : 'none';\n",
              "\n",
              "        async function convertToInteractive(key) {\n",
              "          const element = document.querySelector('#df-7d009544-d497-4427-a933-9b020a17aaf5');\n",
              "          const dataTable =\n",
              "            await google.colab.kernel.invokeFunction('convertToInteractive',\n",
              "                                                     [key], {});\n",
              "          if (!dataTable) return;\n",
              "\n",
              "          const docLinkHtml = 'Like what you see? Visit the ' +\n",
              "            '<a target=\"_blank\" href=https://colab.research.google.com/notebooks/data_table.ipynb>data table notebook</a>'\n",
              "            + ' to learn more about interactive tables.';\n",
              "          element.innerHTML = '';\n",
              "          dataTable['output_type'] = 'display_data';\n",
              "          await google.colab.output.renderOutput(dataTable, element);\n",
              "          const docLink = document.createElement('div');\n",
              "          docLink.innerHTML = docLinkHtml;\n",
              "          element.appendChild(docLink);\n",
              "        }\n",
              "      </script>\n",
              "    </div>\n",
              "  </div>\n",
              "  "
            ]
          },
          "metadata": {},
          "execution_count": 38
        }
      ]
    },
    {
      "cell_type": "code",
      "source": [
        "muni = pd.DataFrame(df.groupby('MUNICIPIO_CIRCUNSCRICAO').sum().sort_values(by='Nº DE VÍT HD', ascending=False))"
      ],
      "metadata": {
        "id": "aGMHkWEo4Sl0"
      },
      "execution_count": null,
      "outputs": []
    },
    {
      "cell_type": "code",
      "source": [
        "mun = muni[:10]"
      ],
      "metadata": {
        "id": "htW8KX6t4SjP"
      },
      "execution_count": null,
      "outputs": []
    },
    {
      "cell_type": "code",
      "source": [
        "print(\"MUNICÍPIOS REGISTRADOS NO DATAFRAME:\",df['MUNICIPIO_CIRCUNSCRICAO'].value_counts().shape[0])\n",
        "print()\n",
        "mun['Nº DE VÍT HD']/1047*100"
      ],
      "metadata": {
        "colab": {
          "base_uri": "https://localhost:8080/"
        },
        "id": "NcAQYnXT4SpA",
        "outputId": "2eafab72-977f-4c27-a754-621875dbb676"
      },
      "execution_count": null,
      "outputs": [
        {
          "output_type": "stream",
          "name": "stdout",
          "text": [
            "MUNICÍPIOS REGISTRADOS NO DATAFRAME: 264\n",
            "\n"
          ]
        },
        {
          "output_type": "execute_result",
          "data": {
            "text/plain": [
              "MUNICIPIO_CIRCUNSCRICAO\n",
              "São Paulo                21.967526\n",
              "Campinas                  4.775549\n",
              "Guarulhos                 2.674308\n",
              "Osasco                    2.101242\n",
              "Sorocaba                  1.623687\n",
              "Ribeirão Preto            1.337154\n",
              "Bauru                     1.241643\n",
              "São Bernardo do Campo     1.146132\n",
              "Santo André               1.146132\n",
              "Itaquaquecetuba           1.050621\n",
              "Name: Nº DE VÍT HD, dtype: float64"
            ]
          },
          "metadata": {},
          "execution_count": 41
        }
      ]
    },
    {
      "cell_type": "code",
      "source": [
        "mun"
      ],
      "metadata": {
        "colab": {
          "base_uri": "https://localhost:8080/",
          "height": 394
        },
        "id": "UPqTXWJWNzz6",
        "outputId": "1d783319-fd05-4c51-a211-5b6403db5737"
      },
      "execution_count": null,
      "outputs": [
        {
          "output_type": "execute_result",
          "data": {
            "text/plain": [
              "                         Nº DE VÍT HD  IDADE_PESSOA\n",
              "MUNICIPIO_CIRCUNSCRICAO                            \n",
              "São Paulo                         230        8088.0\n",
              "Campinas                           50        1971.0\n",
              "Guarulhos                          28         983.0\n",
              "Osasco                             22         786.0\n",
              "Sorocaba                           17         622.0\n",
              "Ribeirão Preto                     14         505.0\n",
              "Bauru                              13         530.0\n",
              "São Bernardo do Campo              12         428.0\n",
              "Santo André                        12         418.0\n",
              "Itaquaquecetuba                    11         335.0"
            ],
            "text/html": [
              "\n",
              "  <div id=\"df-12ec785b-660d-4292-aa8a-8eefc170ad39\">\n",
              "    <div class=\"colab-df-container\">\n",
              "      <div>\n",
              "<style scoped>\n",
              "    .dataframe tbody tr th:only-of-type {\n",
              "        vertical-align: middle;\n",
              "    }\n",
              "\n",
              "    .dataframe tbody tr th {\n",
              "        vertical-align: top;\n",
              "    }\n",
              "\n",
              "    .dataframe thead th {\n",
              "        text-align: right;\n",
              "    }\n",
              "</style>\n",
              "<table border=\"1\" class=\"dataframe\">\n",
              "  <thead>\n",
              "    <tr style=\"text-align: right;\">\n",
              "      <th></th>\n",
              "      <th>Nº DE VÍT HD</th>\n",
              "      <th>IDADE_PESSOA</th>\n",
              "    </tr>\n",
              "    <tr>\n",
              "      <th>MUNICIPIO_CIRCUNSCRICAO</th>\n",
              "      <th></th>\n",
              "      <th></th>\n",
              "    </tr>\n",
              "  </thead>\n",
              "  <tbody>\n",
              "    <tr>\n",
              "      <th>São Paulo</th>\n",
              "      <td>230</td>\n",
              "      <td>8088.0</td>\n",
              "    </tr>\n",
              "    <tr>\n",
              "      <th>Campinas</th>\n",
              "      <td>50</td>\n",
              "      <td>1971.0</td>\n",
              "    </tr>\n",
              "    <tr>\n",
              "      <th>Guarulhos</th>\n",
              "      <td>28</td>\n",
              "      <td>983.0</td>\n",
              "    </tr>\n",
              "    <tr>\n",
              "      <th>Osasco</th>\n",
              "      <td>22</td>\n",
              "      <td>786.0</td>\n",
              "    </tr>\n",
              "    <tr>\n",
              "      <th>Sorocaba</th>\n",
              "      <td>17</td>\n",
              "      <td>622.0</td>\n",
              "    </tr>\n",
              "    <tr>\n",
              "      <th>Ribeirão Preto</th>\n",
              "      <td>14</td>\n",
              "      <td>505.0</td>\n",
              "    </tr>\n",
              "    <tr>\n",
              "      <th>Bauru</th>\n",
              "      <td>13</td>\n",
              "      <td>530.0</td>\n",
              "    </tr>\n",
              "    <tr>\n",
              "      <th>São Bernardo do Campo</th>\n",
              "      <td>12</td>\n",
              "      <td>428.0</td>\n",
              "    </tr>\n",
              "    <tr>\n",
              "      <th>Santo André</th>\n",
              "      <td>12</td>\n",
              "      <td>418.0</td>\n",
              "    </tr>\n",
              "    <tr>\n",
              "      <th>Itaquaquecetuba</th>\n",
              "      <td>11</td>\n",
              "      <td>335.0</td>\n",
              "    </tr>\n",
              "  </tbody>\n",
              "</table>\n",
              "</div>\n",
              "      <button class=\"colab-df-convert\" onclick=\"convertToInteractive('df-12ec785b-660d-4292-aa8a-8eefc170ad39')\"\n",
              "              title=\"Convert this dataframe to an interactive table.\"\n",
              "              style=\"display:none;\">\n",
              "        \n",
              "  <svg xmlns=\"http://www.w3.org/2000/svg\" height=\"24px\"viewBox=\"0 0 24 24\"\n",
              "       width=\"24px\">\n",
              "    <path d=\"M0 0h24v24H0V0z\" fill=\"none\"/>\n",
              "    <path d=\"M18.56 5.44l.94 2.06.94-2.06 2.06-.94-2.06-.94-.94-2.06-.94 2.06-2.06.94zm-11 1L8.5 8.5l.94-2.06 2.06-.94-2.06-.94L8.5 2.5l-.94 2.06-2.06.94zm10 10l.94 2.06.94-2.06 2.06-.94-2.06-.94-.94-2.06-.94 2.06-2.06.94z\"/><path d=\"M17.41 7.96l-1.37-1.37c-.4-.4-.92-.59-1.43-.59-.52 0-1.04.2-1.43.59L10.3 9.45l-7.72 7.72c-.78.78-.78 2.05 0 2.83L4 21.41c.39.39.9.59 1.41.59.51 0 1.02-.2 1.41-.59l7.78-7.78 2.81-2.81c.8-.78.8-2.07 0-2.86zM5.41 20L4 18.59l7.72-7.72 1.47 1.35L5.41 20z\"/>\n",
              "  </svg>\n",
              "      </button>\n",
              "      \n",
              "  <style>\n",
              "    .colab-df-container {\n",
              "      display:flex;\n",
              "      flex-wrap:wrap;\n",
              "      gap: 12px;\n",
              "    }\n",
              "\n",
              "    .colab-df-convert {\n",
              "      background-color: #E8F0FE;\n",
              "      border: none;\n",
              "      border-radius: 50%;\n",
              "      cursor: pointer;\n",
              "      display: none;\n",
              "      fill: #1967D2;\n",
              "      height: 32px;\n",
              "      padding: 0 0 0 0;\n",
              "      width: 32px;\n",
              "    }\n",
              "\n",
              "    .colab-df-convert:hover {\n",
              "      background-color: #E2EBFA;\n",
              "      box-shadow: 0px 1px 2px rgba(60, 64, 67, 0.3), 0px 1px 3px 1px rgba(60, 64, 67, 0.15);\n",
              "      fill: #174EA6;\n",
              "    }\n",
              "\n",
              "    [theme=dark] .colab-df-convert {\n",
              "      background-color: #3B4455;\n",
              "      fill: #D2E3FC;\n",
              "    }\n",
              "\n",
              "    [theme=dark] .colab-df-convert:hover {\n",
              "      background-color: #434B5C;\n",
              "      box-shadow: 0px 1px 3px 1px rgba(0, 0, 0, 0.15);\n",
              "      filter: drop-shadow(0px 1px 2px rgba(0, 0, 0, 0.3));\n",
              "      fill: #FFFFFF;\n",
              "    }\n",
              "  </style>\n",
              "\n",
              "      <script>\n",
              "        const buttonEl =\n",
              "          document.querySelector('#df-12ec785b-660d-4292-aa8a-8eefc170ad39 button.colab-df-convert');\n",
              "        buttonEl.style.display =\n",
              "          google.colab.kernel.accessAllowed ? 'block' : 'none';\n",
              "\n",
              "        async function convertToInteractive(key) {\n",
              "          const element = document.querySelector('#df-12ec785b-660d-4292-aa8a-8eefc170ad39');\n",
              "          const dataTable =\n",
              "            await google.colab.kernel.invokeFunction('convertToInteractive',\n",
              "                                                     [key], {});\n",
              "          if (!dataTable) return;\n",
              "\n",
              "          const docLinkHtml = 'Like what you see? Visit the ' +\n",
              "            '<a target=\"_blank\" href=https://colab.research.google.com/notebooks/data_table.ipynb>data table notebook</a>'\n",
              "            + ' to learn more about interactive tables.';\n",
              "          element.innerHTML = '';\n",
              "          dataTable['output_type'] = 'display_data';\n",
              "          await google.colab.output.renderOutput(dataTable, element);\n",
              "          const docLink = document.createElement('div');\n",
              "          docLink.innerHTML = docLinkHtml;\n",
              "          element.appendChild(docLink);\n",
              "        }\n",
              "      </script>\n",
              "    </div>\n",
              "  </div>\n",
              "  "
            ]
          },
          "metadata": {},
          "execution_count": 42
        }
      ]
    },
    {
      "cell_type": "code",
      "source": [
        "fig, ax = plt.subplots(figsize=(24,8), dpi=72)\n",
        "\n",
        "muncip = ax.bar(mun.index, mun['Nº DE VÍT HD'], color='red', width=0.8)\n",
        "ax.set_title(\"10 MUNICÍPIOS DE SÃO PAULO COM MAIS CASOS DE FEMINICÍDIO\", fontsize=20)\n",
        "ax.yaxis.set_visible(False)\n",
        "ax.tick_params(axis='x', labelsize=14)\n",
        "ax.spines[:].set_visible(False)\n",
        "ax.tick_params(axis='x', labelrotation = 10)\n",
        "ax.bar_label(muncip, fmt='%.f', fontsize=14)\n",
        "\n",
        "plt.show()"
      ],
      "metadata": {
        "colab": {
          "base_uri": "https://localhost:8080/",
          "height": 537
        },
        "id": "DOE9STIX4Sgd",
        "outputId": "3c19ac6c-0af6-4e38-aeca-6612d06f542a"
      },
      "execution_count": null,
      "outputs": [
        {
          "output_type": "display_data",
          "data": {
            "text/plain": [
              "<Figure size 1728x576 with 1 Axes>"
            ],
            "image/png": "[encoded data removed]"
          },
          "metadata": {
            "needs_background": "light"
          }
        }
      ]
    },
    {
      "cell_type": "code",
      "source": [
        "mun['Nº DE VÍT HD']/1047*100"
      ],
      "metadata": {
        "colab": {
          "base_uri": "https://localhost:8080/"
        },
        "id": "pc2FMECJtKsZ",
        "outputId": "38137080-a29f-4082-9359-b92780bc9f63"
      },
      "execution_count": null,
      "outputs": [
        {
          "output_type": "execute_result",
          "data": {
            "text/plain": [
              "MUNICIPIO_CIRCUNSCRICAO\n",
              "São Paulo                21.967526\n",
              "Campinas                  4.775549\n",
              "Guarulhos                 2.674308\n",
              "Osasco                    2.101242\n",
              "Sorocaba                  1.623687\n",
              "Ribeirão Preto            1.337154\n",
              "Bauru                     1.241643\n",
              "São Bernardo do Campo     1.146132\n",
              "Santo André               1.146132\n",
              "Itaquaquecetuba           1.050621\n",
              "Name: Nº DE VÍT HD, dtype: float64"
            ]
          },
          "metadata": {},
          "execution_count": 44
        }
      ]
    },
    {
      "cell_type": "markdown",
      "source": [
        "* ## **Municípios de São Paulo com mais casos de feminicídio:**\n",
        "* ### **São Paulo:** Contém **22%** dos registros.\n",
        "* ### **Campinas:** Contém **4,8%** dos registros.\n",
        "* ### **Guarulhos:** Contém **2,7%** dos registros\n",
        "* ### **Osasco:** Contém **2,1%** dos registros.\n",
        "* ### **Sorocaba:** Contém **1,6%** dos registros."
      ],
      "metadata": {
        "id": "i_5Rx8kWQZzm"
      }
    },
    {
      "cell_type": "markdown",
      "source": [
        "\n",
        "\n",
        "---\n",
        "\n"
      ],
      "metadata": {
        "id": "hWj18NFyiWK9"
      }
    },
    {
      "cell_type": "code",
      "source": [
        "df[:1]"
      ],
      "metadata": {
        "id": "kvPoXAuxQYiq",
        "colab": {
          "base_uri": "https://localhost:8080/",
          "height": 266
        },
        "outputId": "45bebf03-23fe-4a8a-c76e-5aa9b96220f7"
      },
      "execution_count": null,
      "outputs": [
        {
          "output_type": "execute_result",
          "data": {
            "text/plain": [
              "  MUNICIPIO_CIRCUNSCRICAO DP_CIRCUNSCRICAO   Nº DE VÍT HD  DATA_FATO  \\\n",
              "0                 Itupeva      DM - Itupeva             1 2015-04-12   \n",
              "\n",
              "   DESC_TIPOLOCAL TIPO_PESSOA SEXO_PESSOA  IDADE_PESSOA  \\\n",
              "0  Templo e afins      Vítima    Feminino          44.0   \n",
              "\n",
              "  DATA_NASCIMENTO_PESSOA COR_PELE      PROFISSAO  NATUREZA_APURADA  \\\n",
              "0             1970-04-16   Branca  COSTUREIRO(A)  HOMICÍDIO DOLOSO   \n",
              "\n",
              "                                                         DESDOBRAMENTO  \n",
              "0  Feminicídio-contra a mulher por razões da condição de sexo feminino  "
            ],
            "text/html": [
              "\n",
              "  <div id=\"df-37ec373f-d4dc-4395-90f6-b63c8065717b\">\n",
              "    <div class=\"colab-df-container\">\n",
              "      <div>\n",
              "<style scoped>\n",
              "    .dataframe tbody tr th:only-of-type {\n",
              "        vertical-align: middle;\n",
              "    }\n",
              "\n",
              "    .dataframe tbody tr th {\n",
              "        vertical-align: top;\n",
              "    }\n",
              "\n",
              "    .dataframe thead th {\n",
              "        text-align: right;\n",
              "    }\n",
              "</style>\n",
              "<table border=\"1\" class=\"dataframe\">\n",
              "  <thead>\n",
              "    <tr style=\"text-align: right;\">\n",
              "      <th></th>\n",
              "      <th>MUNICIPIO_CIRCUNSCRICAO</th>\n",
              "      <th>DP_CIRCUNSCRICAO</th>\n",
              "      <th>Nº DE VÍT HD</th>\n",
              "      <th>DATA_FATO</th>\n",
              "      <th>DESC_TIPOLOCAL</th>\n",
              "      <th>TIPO_PESSOA</th>\n",
              "      <th>SEXO_PESSOA</th>\n",
              "      <th>IDADE_PESSOA</th>\n",
              "      <th>DATA_NASCIMENTO_PESSOA</th>\n",
              "      <th>COR_PELE</th>\n",
              "      <th>PROFISSAO</th>\n",
              "      <th>NATUREZA_APURADA</th>\n",
              "      <th>DESDOBRAMENTO</th>\n",
              "    </tr>\n",
              "  </thead>\n",
              "  <tbody>\n",
              "    <tr>\n",
              "      <th>0</th>\n",
              "      <td>Itupeva</td>\n",
              "      <td>DM - Itupeva</td>\n",
              "      <td>1</td>\n",
              "      <td>2015-04-12</td>\n",
              "      <td>Templo e afins</td>\n",
              "      <td>Vítima</td>\n",
              "      <td>Feminino</td>\n",
              "      <td>44.0</td>\n",
              "      <td>1970-04-16</td>\n",
              "      <td>Branca</td>\n",
              "      <td>COSTUREIRO(A)</td>\n",
              "      <td>HOMICÍDIO DOLOSO</td>\n",
              "      <td>Feminicídio-contra a mulher por razões da condição de sexo feminino</td>\n",
              "    </tr>\n",
              "  </tbody>\n",
              "</table>\n",
              "</div>\n",
              "      <button class=\"colab-df-convert\" onclick=\"convertToInteractive('df-37ec373f-d4dc-4395-90f6-b63c8065717b')\"\n",
              "              title=\"Convert this dataframe to an interactive table.\"\n",
              "              style=\"display:none;\">\n",
              "        \n",
              "  <svg xmlns=\"http://www.w3.org/2000/svg\" height=\"24px\"viewBox=\"0 0 24 24\"\n",
              "       width=\"24px\">\n",
              "    <path d=\"M0 0h24v24H0V0z\" fill=\"none\"/>\n",
              "    <path d=\"M18.56 5.44l.94 2.06.94-2.06 2.06-.94-2.06-.94-.94-2.06-.94 2.06-2.06.94zm-11 1L8.5 8.5l.94-2.06 2.06-.94-2.06-.94L8.5 2.5l-.94 2.06-2.06.94zm10 10l.94 2.06.94-2.06 2.06-.94-2.06-.94-.94-2.06-.94 2.06-2.06.94z\"/><path d=\"M17.41 7.96l-1.37-1.37c-.4-.4-.92-.59-1.43-.59-.52 0-1.04.2-1.43.59L10.3 9.45l-7.72 7.72c-.78.78-.78 2.05 0 2.83L4 21.41c.39.39.9.59 1.41.59.51 0 1.02-.2 1.41-.59l7.78-7.78 2.81-2.81c.8-.78.8-2.07 0-2.86zM5.41 20L4 18.59l7.72-7.72 1.47 1.35L5.41 20z\"/>\n",
              "  </svg>\n",
              "      </button>\n",
              "      \n",
              "  <style>\n",
              "    .colab-df-container {\n",
              "      display:flex;\n",
              "      flex-wrap:wrap;\n",
              "      gap: 12px;\n",
              "    }\n",
              "\n",
              "    .colab-df-convert {\n",
              "      background-color: #E8F0FE;\n",
              "      border: none;\n",
              "      border-radius: 50%;\n",
              "      cursor: pointer;\n",
              "      display: none;\n",
              "      fill: #1967D2;\n",
              "      height: 32px;\n",
              "      padding: 0 0 0 0;\n",
              "      width: 32px;\n",
              "    }\n",
              "\n",
              "    .colab-df-convert:hover {\n",
              "      background-color: #E2EBFA;\n",
              "      box-shadow: 0px 1px 2px rgba(60, 64, 67, 0.3), 0px 1px 3px 1px rgba(60, 64, 67, 0.15);\n",
              "      fill: #174EA6;\n",
              "    }\n",
              "\n",
              "    [theme=dark] .colab-df-convert {\n",
              "      background-color: #3B4455;\n",
              "      fill: #D2E3FC;\n",
              "    }\n",
              "\n",
              "    [theme=dark] .colab-df-convert:hover {\n",
              "      background-color: #434B5C;\n",
              "      box-shadow: 0px 1px 3px 1px rgba(0, 0, 0, 0.15);\n",
              "      filter: drop-shadow(0px 1px 2px rgba(0, 0, 0, 0.3));\n",
              "      fill: #FFFFFF;\n",
              "    }\n",
              "  </style>\n",
              "\n",
              "      <script>\n",
              "        const buttonEl =\n",
              "          document.querySelector('#df-37ec373f-d4dc-4395-90f6-b63c8065717b button.colab-df-convert');\n",
              "        buttonEl.style.display =\n",
              "          google.colab.kernel.accessAllowed ? 'block' : 'none';\n",
              "\n",
              "        async function convertToInteractive(key) {\n",
              "          const element = document.querySelector('#df-37ec373f-d4dc-4395-90f6-b63c8065717b');\n",
              "          const dataTable =\n",
              "            await google.colab.kernel.invokeFunction('convertToInteractive',\n",
              "                                                     [key], {});\n",
              "          if (!dataTable) return;\n",
              "\n",
              "          const docLinkHtml = 'Like what you see? Visit the ' +\n",
              "            '<a target=\"_blank\" href=https://colab.research.google.com/notebooks/data_table.ipynb>data table notebook</a>'\n",
              "            + ' to learn more about interactive tables.';\n",
              "          element.innerHTML = '';\n",
              "          dataTable['output_type'] = 'display_data';\n",
              "          await google.colab.output.renderOutput(dataTable, element);\n",
              "          const docLink = document.createElement('div');\n",
              "          docLink.innerHTML = docLinkHtml;\n",
              "          element.appendChild(docLink);\n",
              "        }\n",
              "      </script>\n",
              "    </div>\n",
              "  </div>\n",
              "  "
            ]
          },
          "metadata": {},
          "execution_count": 45
        }
      ]
    },
    {
      "cell_type": "code",
      "source": [
        "print(\"PROFISSÕES DIFERENTES:\",df['PROFISSAO'].value_counts().shape[0])\n"
      ],
      "metadata": {
        "id": "IhZED-7uQYf_",
        "colab": {
          "base_uri": "https://localhost:8080/"
        },
        "outputId": "53b25966-7183-46b0-f297-351c2e77434b"
      },
      "execution_count": null,
      "outputs": [
        {
          "output_type": "stream",
          "name": "stdout",
          "text": [
            "PROFISSÕES DIFERENTES: 111\n"
          ]
        }
      ]
    },
    {
      "cell_type": "code",
      "source": [
        "proftst = df.copy()"
      ],
      "metadata": {
        "id": "o--RUeMmld8n"
      },
      "execution_count": null,
      "outputs": []
    },
    {
      "cell_type": "code",
      "source": [
        "proftst['PROFISSAO'] = proftst['PROFISSAO'].str.replace('NÃO IDENTIFICADO','SEM INFO')\n",
        "proftst['PROFISSAO'] = proftst['PROFISSAO'].str.replace('NAO INFORMADA','SEM INFO')\n",
        "proftst['PROFISSAO'] = proftst['PROFISSAO'].str.replace('OUTROS','SEM INFO')"
      ],
      "metadata": {
        "id": "9JV_NeT4kfpZ"
      },
      "execution_count": null,
      "outputs": []
    },
    {
      "cell_type": "code",
      "source": [
        "profi = pd.DataFrame(proftst.groupby('PROFISSAO').sum().sort_values(by='Nº DE VÍT HD', ascending=False))"
      ],
      "metadata": {
        "id": "jactZSeCQYdO"
      },
      "execution_count": null,
      "outputs": []
    },
    {
      "cell_type": "code",
      "source": [
        "(profi['Nº DE VÍT HD']/1047*100)[:15]"
      ],
      "metadata": {
        "colab": {
          "base_uri": "https://localhost:8080/"
        },
        "id": "biatNh7_kHMC",
        "outputId": "c2ee2b12-1f0c-4d98-a5d8-910a9f35bb74"
      },
      "execution_count": null,
      "outputs": [
        {
          "output_type": "execute_result",
          "data": {
            "text/plain": [
              "PROFISSAO\n",
              "SEM INFO               45.558739\n",
              "PRENDAS DOMESTICAS     10.219675\n",
              "ESTUDANTE               6.781280\n",
              "DESEMPREGADO(A)         2.101242\n",
              "APOSENTADO(A)           2.005731\n",
              "EMPREGADO DOMESTICO     1.719198\n",
              "AUTONOMO(A)             1.719198\n",
              "BALCONISTA              1.623687\n",
              "AUXILIAR DE LIMPEZA     1.623687\n",
              "DESEMPREGADO            1.623687\n",
              "CABELEIREIRO(A)         1.528176\n",
              "COMERCIANTE             1.337154\n",
              "FAXINEIRO(A)            1.241643\n",
              "VENDEDOR(A)             1.146132\n",
              "COZINHEIRO(A)           1.050621\n",
              "Name: Nº DE VÍT HD, dtype: float64"
            ]
          },
          "metadata": {},
          "execution_count": 50
        }
      ]
    },
    {
      "cell_type": "markdown",
      "source": [
        "* ## **45,5%** da coluna **PROFISSAO** não informa a profissão das vítimas, porem vou listar as **10 profissões** seguintes para plotar o gráfico.\n"
      ],
      "metadata": {
        "id": "SQ9xDNgXu67a"
      }
    },
    {
      "cell_type": "code",
      "source": [
        "prof = profi[:11]"
      ],
      "metadata": {
        "id": "yy7Fvkq2iDlu"
      },
      "execution_count": null,
      "outputs": []
    },
    {
      "cell_type": "code",
      "source": [
        "prof = prof.drop((prof.loc[prof.index == 'SEM INFO']).index)"
      ],
      "metadata": {
        "id": "CMeT6mabmHj4"
      },
      "execution_count": null,
      "outputs": []
    },
    {
      "cell_type": "code",
      "source": [
        "prof"
      ],
      "metadata": {
        "colab": {
          "base_uri": "https://localhost:8080/",
          "height": 394
        },
        "id": "yyZNl2KAmHht",
        "outputId": "bd2be0ec-78e8-410f-a9f8-8852d496c1c2"
      },
      "execution_count": null,
      "outputs": [
        {
          "output_type": "execute_result",
          "data": {
            "text/plain": [
              "                     Nº DE VÍT HD  IDADE_PESSOA\n",
              "PROFISSAO                                      \n",
              "PRENDAS DOMESTICAS            107        4092.0\n",
              "ESTUDANTE                      71        1420.0\n",
              "DESEMPREGADO(A)                22         640.0\n",
              "APOSENTADO(A)                  21        1443.0\n",
              "EMPREGADO DOMESTICO            18         692.0\n",
              "AUTONOMO(A)                    18         689.0\n",
              "BALCONISTA                     17         564.0\n",
              "AUXILIAR DE LIMPEZA            17         624.0\n",
              "DESEMPREGADO                   17         512.0\n",
              "CABELEIREIRO(A)                16         454.0"
            ],
            "text/html": [
              "\n",
              "  <div id=\"df-ebd58b95-fdd1-4668-960d-3afa797cddf6\">\n",
              "    <div class=\"colab-df-container\">\n",
              "      <div>\n",
              "<style scoped>\n",
              "    .dataframe tbody tr th:only-of-type {\n",
              "        vertical-align: middle;\n",
              "    }\n",
              "\n",
              "    .dataframe tbody tr th {\n",
              "        vertical-align: top;\n",
              "    }\n",
              "\n",
              "    .dataframe thead th {\n",
              "        text-align: right;\n",
              "    }\n",
              "</style>\n",
              "<table border=\"1\" class=\"dataframe\">\n",
              "  <thead>\n",
              "    <tr style=\"text-align: right;\">\n",
              "      <th></th>\n",
              "      <th>Nº DE VÍT HD</th>\n",
              "      <th>IDADE_PESSOA</th>\n",
              "    </tr>\n",
              "    <tr>\n",
              "      <th>PROFISSAO</th>\n",
              "      <th></th>\n",
              "      <th></th>\n",
              "    </tr>\n",
              "  </thead>\n",
              "  <tbody>\n",
              "    <tr>\n",
              "      <th>PRENDAS DOMESTICAS</th>\n",
              "      <td>107</td>\n",
              "      <td>4092.0</td>\n",
              "    </tr>\n",
              "    <tr>\n",
              "      <th>ESTUDANTE</th>\n",
              "      <td>71</td>\n",
              "      <td>1420.0</td>\n",
              "    </tr>\n",
              "    <tr>\n",
              "      <th>DESEMPREGADO(A)</th>\n",
              "      <td>22</td>\n",
              "      <td>640.0</td>\n",
              "    </tr>\n",
              "    <tr>\n",
              "      <th>APOSENTADO(A)</th>\n",
              "      <td>21</td>\n",
              "      <td>1443.0</td>\n",
              "    </tr>\n",
              "    <tr>\n",
              "      <th>EMPREGADO DOMESTICO</th>\n",
              "      <td>18</td>\n",
              "      <td>692.0</td>\n",
              "    </tr>\n",
              "    <tr>\n",
              "      <th>AUTONOMO(A)</th>\n",
              "      <td>18</td>\n",
              "      <td>689.0</td>\n",
              "    </tr>\n",
              "    <tr>\n",
              "      <th>BALCONISTA</th>\n",
              "      <td>17</td>\n",
              "      <td>564.0</td>\n",
              "    </tr>\n",
              "    <tr>\n",
              "      <th>AUXILIAR DE LIMPEZA</th>\n",
              "      <td>17</td>\n",
              "      <td>624.0</td>\n",
              "    </tr>\n",
              "    <tr>\n",
              "      <th>DESEMPREGADO</th>\n",
              "      <td>17</td>\n",
              "      <td>512.0</td>\n",
              "    </tr>\n",
              "    <tr>\n",
              "      <th>CABELEIREIRO(A)</th>\n",
              "      <td>16</td>\n",
              "      <td>454.0</td>\n",
              "    </tr>\n",
              "  </tbody>\n",
              "</table>\n",
              "</div>\n",
              "      <button class=\"colab-df-convert\" onclick=\"convertToInteractive('df-ebd58b95-fdd1-4668-960d-3afa797cddf6')\"\n",
              "              title=\"Convert this dataframe to an interactive table.\"\n",
              "              style=\"display:none;\">\n",
              "        \n",
              "  <svg xmlns=\"http://www.w3.org/2000/svg\" height=\"24px\"viewBox=\"0 0 24 24\"\n",
              "       width=\"24px\">\n",
              "    <path d=\"M0 0h24v24H0V0z\" fill=\"none\"/>\n",
              "    <path d=\"M18.56 5.44l.94 2.06.94-2.06 2.06-.94-2.06-.94-.94-2.06-.94 2.06-2.06.94zm-11 1L8.5 8.5l.94-2.06 2.06-.94-2.06-.94L8.5 2.5l-.94 2.06-2.06.94zm10 10l.94 2.06.94-2.06 2.06-.94-2.06-.94-.94-2.06-.94 2.06-2.06.94z\"/><path d=\"M17.41 7.96l-1.37-1.37c-.4-.4-.92-.59-1.43-.59-.52 0-1.04.2-1.43.59L10.3 9.45l-7.72 7.72c-.78.78-.78 2.05 0 2.83L4 21.41c.39.39.9.59 1.41.59.51 0 1.02-.2 1.41-.59l7.78-7.78 2.81-2.81c.8-.78.8-2.07 0-2.86zM5.41 20L4 18.59l7.72-7.72 1.47 1.35L5.41 20z\"/>\n",
              "  </svg>\n",
              "      </button>\n",
              "      \n",
              "  <style>\n",
              "    .colab-df-container {\n",
              "      display:flex;\n",
              "      flex-wrap:wrap;\n",
              "      gap: 12px;\n",
              "    }\n",
              "\n",
              "    .colab-df-convert {\n",
              "      background-color: #E8F0FE;\n",
              "      border: none;\n",
              "      border-radius: 50%;\n",
              "      cursor: pointer;\n",
              "      display: none;\n",
              "      fill: #1967D2;\n",
              "      height: 32px;\n",
              "      padding: 0 0 0 0;\n",
              "      width: 32px;\n",
              "    }\n",
              "\n",
              "    .colab-df-convert:hover {\n",
              "      background-color: #E2EBFA;\n",
              "      box-shadow: 0px 1px 2px rgba(60, 64, 67, 0.3), 0px 1px 3px 1px rgba(60, 64, 67, 0.15);\n",
              "      fill: #174EA6;\n",
              "    }\n",
              "\n",
              "    [theme=dark] .colab-df-convert {\n",
              "      background-color: #3B4455;\n",
              "      fill: #D2E3FC;\n",
              "    }\n",
              "\n",
              "    [theme=dark] .colab-df-convert:hover {\n",
              "      background-color: #434B5C;\n",
              "      box-shadow: 0px 1px 3px 1px rgba(0, 0, 0, 0.15);\n",
              "      filter: drop-shadow(0px 1px 2px rgba(0, 0, 0, 0.3));\n",
              "      fill: #FFFFFF;\n",
              "    }\n",
              "  </style>\n",
              "\n",
              "      <script>\n",
              "        const buttonEl =\n",
              "          document.querySelector('#df-ebd58b95-fdd1-4668-960d-3afa797cddf6 button.colab-df-convert');\n",
              "        buttonEl.style.display =\n",
              "          google.colab.kernel.accessAllowed ? 'block' : 'none';\n",
              "\n",
              "        async function convertToInteractive(key) {\n",
              "          const element = document.querySelector('#df-ebd58b95-fdd1-4668-960d-3afa797cddf6');\n",
              "          const dataTable =\n",
              "            await google.colab.kernel.invokeFunction('convertToInteractive',\n",
              "                                                     [key], {});\n",
              "          if (!dataTable) return;\n",
              "\n",
              "          const docLinkHtml = 'Like what you see? Visit the ' +\n",
              "            '<a target=\"_blank\" href=https://colab.research.google.com/notebooks/data_table.ipynb>data table notebook</a>'\n",
              "            + ' to learn more about interactive tables.';\n",
              "          element.innerHTML = '';\n",
              "          dataTable['output_type'] = 'display_data';\n",
              "          await google.colab.output.renderOutput(dataTable, element);\n",
              "          const docLink = document.createElement('div');\n",
              "          docLink.innerHTML = docLinkHtml;\n",
              "          element.appendChild(docLink);\n",
              "        }\n",
              "      </script>\n",
              "    </div>\n",
              "  </div>\n",
              "  "
            ]
          },
          "metadata": {},
          "execution_count": 53
        }
      ]
    },
    {
      "cell_type": "code",
      "source": [
        "fig, ax = plt.subplots(figsize=(24,8), dpi=72)\n",
        "\n",
        "profvit = ax.bar(prof.index, prof['Nº DE VÍT HD'], color='red')\n",
        "ax.set_title(\"PROFISSÕES DAS VÍTIMAS\", fontsize=18)\n",
        "ax.set_ylabel(\"CASOS\", fontsize=16)\n",
        "ax.yaxis.set_visible(False)\n",
        "ax.tick_params(axis='both', labelsize=14)\n",
        "ax.tick_params(axis='x', labelrotation=10)\n",
        "ax.spines[:].set_visible(False)\n",
        "ax.bar_label(profvit, fontsize=14)\n",
        "\n",
        "plt.show()"
      ],
      "metadata": {
        "colab": {
          "base_uri": "https://localhost:8080/",
          "height": 538
        },
        "id": "q9kYhsKMmHfS",
        "outputId": "ab765e61-3c53-4194-8826-56321560629e"
      },
      "execution_count": null,
      "outputs": [
        {
          "output_type": "display_data",
          "data": {
            "text/plain": [
              "<Figure size 1728x576 with 1 Axes>"
            ],
            "image/png": "[encoded data removed]"
          },
          "metadata": {
            "needs_background": "light"
          }
        }
      ]
    },
    {
      "cell_type": "code",
      "source": [
        "prof['Nº DE VÍT HD']/1047*100"
      ],
      "metadata": {
        "colab": {
          "base_uri": "https://localhost:8080/"
        },
        "id": "4qi9athAxOdM",
        "outputId": "03043d5e-1b28-4556-dfe1-e28044d36290"
      },
      "execution_count": null,
      "outputs": [
        {
          "output_type": "execute_result",
          "data": {
            "text/plain": [
              "PROFISSAO\n",
              "PRENDAS DOMESTICAS     10.219675\n",
              "ESTUDANTE               6.781280\n",
              "DESEMPREGADO(A)         2.101242\n",
              "APOSENTADO(A)           2.005731\n",
              "EMPREGADO DOMESTICO     1.719198\n",
              "AUTONOMO(A)             1.719198\n",
              "BALCONISTA              1.623687\n",
              "AUXILIAR DE LIMPEZA     1.623687\n",
              "DESEMPREGADO            1.623687\n",
              "CABELEIREIRO(A)         1.528176\n",
              "Name: Nº DE VÍT HD, dtype: float64"
            ]
          },
          "metadata": {},
          "execution_count": 55
        }
      ]
    },
    {
      "cell_type": "markdown",
      "source": [
        "* # **Profissões das vítimas de feminicídio:**\n",
        "* ### **Prendas domésticas:** Contém **10,2%** dos registros.\n",
        "* ### **Estudante:** Contém **6,8%** dos registros.\n",
        "* ### **Desempregada:** Contém **2,1%** dos registros.\n",
        "* ### **Aposentada:** Contém **2%** dos registros.\n",
        "* ### **Empregada doméstica:** Contém **1,7%** dos casos."
      ],
      "metadata": {
        "id": "BUqE36mrxWvI"
      }
    },
    {
      "cell_type": "markdown",
      "source": [
        "\n",
        "\n",
        "---\n",
        "\n"
      ],
      "metadata": {
        "id": "RTKERCm3wQEj"
      }
    },
    {
      "cell_type": "code",
      "source": [
        "df[:1]"
      ],
      "metadata": {
        "colab": {
          "base_uri": "https://localhost:8080/",
          "height": 266
        },
        "id": "mbPjNxs2mHcv",
        "outputId": "a26e015e-bd0c-4d26-cf08-aa8731cf0d0d"
      },
      "execution_count": null,
      "outputs": [
        {
          "output_type": "execute_result",
          "data": {
            "text/plain": [
              "  MUNICIPIO_CIRCUNSCRICAO DP_CIRCUNSCRICAO   Nº DE VÍT HD  DATA_FATO  \\\n",
              "0                 Itupeva      DM - Itupeva             1 2015-04-12   \n",
              "\n",
              "   DESC_TIPOLOCAL TIPO_PESSOA SEXO_PESSOA  IDADE_PESSOA  \\\n",
              "0  Templo e afins      Vítima    Feminino          44.0   \n",
              "\n",
              "  DATA_NASCIMENTO_PESSOA COR_PELE      PROFISSAO  NATUREZA_APURADA  \\\n",
              "0             1970-04-16   Branca  COSTUREIRO(A)  HOMICÍDIO DOLOSO   \n",
              "\n",
              "                                                         DESDOBRAMENTO  \n",
              "0  Feminicídio-contra a mulher por razões da condição de sexo feminino  "
            ],
            "text/html": [
              "\n",
              "  <div id=\"df-6e457025-ca60-4d5d-8f00-d5787afd72ee\">\n",
              "    <div class=\"colab-df-container\">\n",
              "      <div>\n",
              "<style scoped>\n",
              "    .dataframe tbody tr th:only-of-type {\n",
              "        vertical-align: middle;\n",
              "    }\n",
              "\n",
              "    .dataframe tbody tr th {\n",
              "        vertical-align: top;\n",
              "    }\n",
              "\n",
              "    .dataframe thead th {\n",
              "        text-align: right;\n",
              "    }\n",
              "</style>\n",
              "<table border=\"1\" class=\"dataframe\">\n",
              "  <thead>\n",
              "    <tr style=\"text-align: right;\">\n",
              "      <th></th>\n",
              "      <th>MUNICIPIO_CIRCUNSCRICAO</th>\n",
              "      <th>DP_CIRCUNSCRICAO</th>\n",
              "      <th>Nº DE VÍT HD</th>\n",
              "      <th>DATA_FATO</th>\n",
              "      <th>DESC_TIPOLOCAL</th>\n",
              "      <th>TIPO_PESSOA</th>\n",
              "      <th>SEXO_PESSOA</th>\n",
              "      <th>IDADE_PESSOA</th>\n",
              "      <th>DATA_NASCIMENTO_PESSOA</th>\n",
              "      <th>COR_PELE</th>\n",
              "      <th>PROFISSAO</th>\n",
              "      <th>NATUREZA_APURADA</th>\n",
              "      <th>DESDOBRAMENTO</th>\n",
              "    </tr>\n",
              "  </thead>\n",
              "  <tbody>\n",
              "    <tr>\n",
              "      <th>0</th>\n",
              "      <td>Itupeva</td>\n",
              "      <td>DM - Itupeva</td>\n",
              "      <td>1</td>\n",
              "      <td>2015-04-12</td>\n",
              "      <td>Templo e afins</td>\n",
              "      <td>Vítima</td>\n",
              "      <td>Feminino</td>\n",
              "      <td>44.0</td>\n",
              "      <td>1970-04-16</td>\n",
              "      <td>Branca</td>\n",
              "      <td>COSTUREIRO(A)</td>\n",
              "      <td>HOMICÍDIO DOLOSO</td>\n",
              "      <td>Feminicídio-contra a mulher por razões da condição de sexo feminino</td>\n",
              "    </tr>\n",
              "  </tbody>\n",
              "</table>\n",
              "</div>\n",
              "      <button class=\"colab-df-convert\" onclick=\"convertToInteractive('df-6e457025-ca60-4d5d-8f00-d5787afd72ee')\"\n",
              "              title=\"Convert this dataframe to an interactive table.\"\n",
              "              style=\"display:none;\">\n",
              "        \n",
              "  <svg xmlns=\"http://www.w3.org/2000/svg\" height=\"24px\"viewBox=\"0 0 24 24\"\n",
              "       width=\"24px\">\n",
              "    <path d=\"M0 0h24v24H0V0z\" fill=\"none\"/>\n",
              "    <path d=\"M18.56 5.44l.94 2.06.94-2.06 2.06-.94-2.06-.94-.94-2.06-.94 2.06-2.06.94zm-11 1L8.5 8.5l.94-2.06 2.06-.94-2.06-.94L8.5 2.5l-.94 2.06-2.06.94zm10 10l.94 2.06.94-2.06 2.06-.94-2.06-.94-.94-2.06-.94 2.06-2.06.94z\"/><path d=\"M17.41 7.96l-1.37-1.37c-.4-.4-.92-.59-1.43-.59-.52 0-1.04.2-1.43.59L10.3 9.45l-7.72 7.72c-.78.78-.78 2.05 0 2.83L4 21.41c.39.39.9.59 1.41.59.51 0 1.02-.2 1.41-.59l7.78-7.78 2.81-2.81c.8-.78.8-2.07 0-2.86zM5.41 20L4 18.59l7.72-7.72 1.47 1.35L5.41 20z\"/>\n",
              "  </svg>\n",
              "      </button>\n",
              "      \n",
              "  <style>\n",
              "    .colab-df-container {\n",
              "      display:flex;\n",
              "      flex-wrap:wrap;\n",
              "      gap: 12px;\n",
              "    }\n",
              "\n",
              "    .colab-df-convert {\n",
              "      background-color: #E8F0FE;\n",
              "      border: none;\n",
              "      border-radius: 50%;\n",
              "      cursor: pointer;\n",
              "      display: none;\n",
              "      fill: #1967D2;\n",
              "      height: 32px;\n",
              "      padding: 0 0 0 0;\n",
              "      width: 32px;\n",
              "    }\n",
              "\n",
              "    .colab-df-convert:hover {\n",
              "      background-color: #E2EBFA;\n",
              "      box-shadow: 0px 1px 2px rgba(60, 64, 67, 0.3), 0px 1px 3px 1px rgba(60, 64, 67, 0.15);\n",
              "      fill: #174EA6;\n",
              "    }\n",
              "\n",
              "    [theme=dark] .colab-df-convert {\n",
              "      background-color: #3B4455;\n",
              "      fill: #D2E3FC;\n",
              "    }\n",
              "\n",
              "    [theme=dark] .colab-df-convert:hover {\n",
              "      background-color: #434B5C;\n",
              "      box-shadow: 0px 1px 3px 1px rgba(0, 0, 0, 0.15);\n",
              "      filter: drop-shadow(0px 1px 2px rgba(0, 0, 0, 0.3));\n",
              "      fill: #FFFFFF;\n",
              "    }\n",
              "  </style>\n",
              "\n",
              "      <script>\n",
              "        const buttonEl =\n",
              "          document.querySelector('#df-6e457025-ca60-4d5d-8f00-d5787afd72ee button.colab-df-convert');\n",
              "        buttonEl.style.display =\n",
              "          google.colab.kernel.accessAllowed ? 'block' : 'none';\n",
              "\n",
              "        async function convertToInteractive(key) {\n",
              "          const element = document.querySelector('#df-6e457025-ca60-4d5d-8f00-d5787afd72ee');\n",
              "          const dataTable =\n",
              "            await google.colab.kernel.invokeFunction('convertToInteractive',\n",
              "                                                     [key], {});\n",
              "          if (!dataTable) return;\n",
              "\n",
              "          const docLinkHtml = 'Like what you see? Visit the ' +\n",
              "            '<a target=\"_blank\" href=https://colab.research.google.com/notebooks/data_table.ipynb>data table notebook</a>'\n",
              "            + ' to learn more about interactive tables.';\n",
              "          element.innerHTML = '';\n",
              "          dataTable['output_type'] = 'display_data';\n",
              "          await google.colab.output.renderOutput(dataTable, element);\n",
              "          const docLink = document.createElement('div');\n",
              "          docLink.innerHTML = docLinkHtml;\n",
              "          element.appendChild(docLink);\n",
              "        }\n",
              "      </script>\n",
              "    </div>\n",
              "  </div>\n",
              "  "
            ]
          },
          "metadata": {},
          "execution_count": 56
        }
      ]
    },
    {
      "cell_type": "code",
      "source": [
        "print(\"Diferentes locais:\",df['DESC_TIPOLOCAL'].value_counts().shape[0])\n",
        "print()\n",
        "df['DESC_TIPOLOCAL'].value_counts()[:10]"
      ],
      "metadata": {
        "colab": {
          "base_uri": "https://localhost:8080/"
        },
        "id": "9kx5qp4imHZz",
        "outputId": "1e899965-96d9-4887-c09f-43cd59085d30"
      },
      "execution_count": null,
      "outputs": [
        {
          "output_type": "stream",
          "name": "stdout",
          "text": [
            "Diferentes locais: 19\n",
            "\n"
          ]
        },
        {
          "output_type": "execute_result",
          "data": {
            "text/plain": [
              "Residência                697\n",
              "Via pública               226\n",
              "Comércio e serviços        22\n",
              "Unidade rural              21\n",
              "Area não ocupada           15\n",
              "Saúde                      13\n",
              "Hospedagem                 11\n",
              "Rodovia/Estrada             9\n",
              "Condominio Residencial      9\n",
              "Restaurante e afins         6\n",
              "Name: DESC_TIPOLOCAL, dtype: int64"
            ]
          },
          "metadata": {},
          "execution_count": 57
        }
      ]
    },
    {
      "cell_type": "code",
      "source": [
        "loc = df.groupby('DESC_TIPOLOCAL').sum().sort_values(by='Nº DE VÍT HD', ascending=False)"
      ],
      "metadata": {
        "id": "F0tQiGb7yNe9"
      },
      "execution_count": null,
      "outputs": []
    },
    {
      "cell_type": "code",
      "source": [
        "local = loc[:15]"
      ],
      "metadata": {
        "id": "ELy8Hm9gwbbL"
      },
      "execution_count": null,
      "outputs": []
    },
    {
      "cell_type": "code",
      "source": [],
      "metadata": {
        "id": "GZiwnQsXIgQQ"
      },
      "execution_count": null,
      "outputs": []
    },
    {
      "cell_type": "code",
      "source": [
        "fig, ax = plt.subplots(figsize=(24,8), dpi=72)\n",
        "\n",
        "loctxt = ax.bar(local.index, local['Nº DE VÍT HD'], color='red')\n",
        "ax.set_title(\"LOCAIS DOS CASOS\", fontsize=18)\n",
        "ax.set_ylabel(\"CASOS\", fontsize=16)\n",
        "ax.set_yticks(range(0,701,50))\n",
        "ax.spines[:].set_visible(False)\n",
        "ax.yaxis.set_visible(False)\n",
        "ax.tick_params(axis='both', labelsize=14)\n",
        "ax.tick_params(axis='x', labelrotation=20)\n",
        "ax.bar_label(loctxt, fmt='%.f', fontsize=12)\n",
        "\n",
        "plt.show()"
      ],
      "metadata": {
        "colab": {
          "base_uri": "https://localhost:8080/",
          "height": 568
        },
        "id": "4sk4a81y1Tvv",
        "outputId": "d84bdfc4-4cca-4ef8-b0e5-08c81f0e818f"
      },
      "execution_count": null,
      "outputs": [
        {
          "output_type": "display_data",
          "data": {
            "text/plain": [
              "<Figure size 1728x576 with 1 Axes>"
            ],
            "image/png": "[encoded data removed]"
          },
          "metadata": {
            "needs_background": "light"
          }
        }
      ]
    },
    {
      "cell_type": "code",
      "source": [
        "local['Nº DE VÍT HD']/1047*100"
      ],
      "metadata": {
        "id": "WfN4WhYu2DCc",
        "colab": {
          "base_uri": "https://localhost:8080/"
        },
        "outputId": "9a3e41ab-b54a-44eb-a950-a195489a6400"
      },
      "execution_count": null,
      "outputs": [
        {
          "output_type": "execute_result",
          "data": {
            "text/plain": [
              "DESC_TIPOLOCAL\n",
              "Residência                   66.571156\n",
              "Via pública                  21.585482\n",
              "Comércio e serviços           2.101242\n",
              "Unidade rural                 2.005731\n",
              "Area não ocupada              1.432665\n",
              "Saúde                         1.241643\n",
              "Hospedagem                    1.050621\n",
              "Condominio Residencial        0.859599\n",
              "Rodovia/Estrada               0.859599\n",
              "Restaurante e afins           0.573066\n",
              "Lazer e recreação             0.382044\n",
              "Estabelecimento prisional     0.286533\n",
              "Escritório                    0.286533\n",
              "Favela                        0.191022\n",
              "Templo e afins                0.191022\n",
              "Name: Nº DE VÍT HD, dtype: float64"
            ]
          },
          "metadata": {},
          "execution_count": 61
        }
      ]
    },
    {
      "cell_type": "markdown",
      "source": [
        "* ## **Locais dos casos de feminicídios:**\n",
        "* ### **Residência:** Contém **66,6%** dos registros.\n",
        "* ### **Via pública:** Contém **21,6%** dos registros.\n",
        "* ### **Comércio e serviços:** Contém **2,1%** dos registros.\n",
        "* ### **Unidade rural:** Contém **2%** dos registros.\n",
        "* ### **Área não ocupada:** Contém **1,4%** dos registros."
      ],
      "metadata": {
        "id": "T1R7cDcZ3VUy"
      }
    },
    {
      "cell_type": "markdown",
      "source": [
        "\n",
        "\n",
        "---\n",
        "* ## **Anos com mais casos:**\n"
      ],
      "metadata": {
        "id": "5gy36ou1XODj"
      }
    },
    {
      "cell_type": "code",
      "source": [
        "df[:1]"
      ],
      "metadata": {
        "colab": {
          "base_uri": "https://localhost:8080/",
          "height": 266
        },
        "id": "G6d-WoniXR-0",
        "outputId": "09775736-0bcf-42c3-fde1-f79a521f17b7"
      },
      "execution_count": null,
      "outputs": [
        {
          "output_type": "execute_result",
          "data": {
            "text/plain": [
              "  MUNICIPIO_CIRCUNSCRICAO DP_CIRCUNSCRICAO   Nº DE VÍT HD  DATA_FATO  \\\n",
              "0                 Itupeva      DM - Itupeva             1 2015-04-12   \n",
              "\n",
              "   DESC_TIPOLOCAL TIPO_PESSOA SEXO_PESSOA  IDADE_PESSOA  \\\n",
              "0  Templo e afins      Vítima    Feminino          44.0   \n",
              "\n",
              "  DATA_NASCIMENTO_PESSOA COR_PELE      PROFISSAO  NATUREZA_APURADA  \\\n",
              "0             1970-04-16   Branca  COSTUREIRO(A)  HOMICÍDIO DOLOSO   \n",
              "\n",
              "                                                         DESDOBRAMENTO  \n",
              "0  Feminicídio-contra a mulher por razões da condição de sexo feminino  "
            ],
            "text/html": [
              "\n",
              "  <div id=\"df-431fbba0-b6d6-40e6-9ab6-7cad5c9d83d3\">\n",
              "    <div class=\"colab-df-container\">\n",
              "      <div>\n",
              "<style scoped>\n",
              "    .dataframe tbody tr th:only-of-type {\n",
              "        vertical-align: middle;\n",
              "    }\n",
              "\n",
              "    .dataframe tbody tr th {\n",
              "        vertical-align: top;\n",
              "    }\n",
              "\n",
              "    .dataframe thead th {\n",
              "        text-align: right;\n",
              "    }\n",
              "</style>\n",
              "<table border=\"1\" class=\"dataframe\">\n",
              "  <thead>\n",
              "    <tr style=\"text-align: right;\">\n",
              "      <th></th>\n",
              "      <th>MUNICIPIO_CIRCUNSCRICAO</th>\n",
              "      <th>DP_CIRCUNSCRICAO</th>\n",
              "      <th>Nº DE VÍT HD</th>\n",
              "      <th>DATA_FATO</th>\n",
              "      <th>DESC_TIPOLOCAL</th>\n",
              "      <th>TIPO_PESSOA</th>\n",
              "      <th>SEXO_PESSOA</th>\n",
              "      <th>IDADE_PESSOA</th>\n",
              "      <th>DATA_NASCIMENTO_PESSOA</th>\n",
              "      <th>COR_PELE</th>\n",
              "      <th>PROFISSAO</th>\n",
              "      <th>NATUREZA_APURADA</th>\n",
              "      <th>DESDOBRAMENTO</th>\n",
              "    </tr>\n",
              "  </thead>\n",
              "  <tbody>\n",
              "    <tr>\n",
              "      <th>0</th>\n",
              "      <td>Itupeva</td>\n",
              "      <td>DM - Itupeva</td>\n",
              "      <td>1</td>\n",
              "      <td>2015-04-12</td>\n",
              "      <td>Templo e afins</td>\n",
              "      <td>Vítima</td>\n",
              "      <td>Feminino</td>\n",
              "      <td>44.0</td>\n",
              "      <td>1970-04-16</td>\n",
              "      <td>Branca</td>\n",
              "      <td>COSTUREIRO(A)</td>\n",
              "      <td>HOMICÍDIO DOLOSO</td>\n",
              "      <td>Feminicídio-contra a mulher por razões da condição de sexo feminino</td>\n",
              "    </tr>\n",
              "  </tbody>\n",
              "</table>\n",
              "</div>\n",
              "      <button class=\"colab-df-convert\" onclick=\"convertToInteractive('df-431fbba0-b6d6-40e6-9ab6-7cad5c9d83d3')\"\n",
              "              title=\"Convert this dataframe to an interactive table.\"\n",
              "              style=\"display:none;\">\n",
              "        \n",
              "  <svg xmlns=\"http://www.w3.org/2000/svg\" height=\"24px\"viewBox=\"0 0 24 24\"\n",
              "       width=\"24px\">\n",
              "    <path d=\"M0 0h24v24H0V0z\" fill=\"none\"/>\n",
              "    <path d=\"M18.56 5.44l.94 2.06.94-2.06 2.06-.94-2.06-.94-.94-2.06-.94 2.06-2.06.94zm-11 1L8.5 8.5l.94-2.06 2.06-.94-2.06-.94L8.5 2.5l-.94 2.06-2.06.94zm10 10l.94 2.06.94-2.06 2.06-.94-2.06-.94-.94-2.06-.94 2.06-2.06.94z\"/><path d=\"M17.41 7.96l-1.37-1.37c-.4-.4-.92-.59-1.43-.59-.52 0-1.04.2-1.43.59L10.3 9.45l-7.72 7.72c-.78.78-.78 2.05 0 2.83L4 21.41c.39.39.9.59 1.41.59.51 0 1.02-.2 1.41-.59l7.78-7.78 2.81-2.81c.8-.78.8-2.07 0-2.86zM5.41 20L4 18.59l7.72-7.72 1.47 1.35L5.41 20z\"/>\n",
              "  </svg>\n",
              "      </button>\n",
              "      \n",
              "  <style>\n",
              "    .colab-df-container {\n",
              "      display:flex;\n",
              "      flex-wrap:wrap;\n",
              "      gap: 12px;\n",
              "    }\n",
              "\n",
              "    .colab-df-convert {\n",
              "      background-color: #E8F0FE;\n",
              "      border: none;\n",
              "      border-radius: 50%;\n",
              "      cursor: pointer;\n",
              "      display: none;\n",
              "      fill: #1967D2;\n",
              "      height: 32px;\n",
              "      padding: 0 0 0 0;\n",
              "      width: 32px;\n",
              "    }\n",
              "\n",
              "    .colab-df-convert:hover {\n",
              "      background-color: #E2EBFA;\n",
              "      box-shadow: 0px 1px 2px rgba(60, 64, 67, 0.3), 0px 1px 3px 1px rgba(60, 64, 67, 0.15);\n",
              "      fill: #174EA6;\n",
              "    }\n",
              "\n",
              "    [theme=dark] .colab-df-convert {\n",
              "      background-color: #3B4455;\n",
              "      fill: #D2E3FC;\n",
              "    }\n",
              "\n",
              "    [theme=dark] .colab-df-convert:hover {\n",
              "      background-color: #434B5C;\n",
              "      box-shadow: 0px 1px 3px 1px rgba(0, 0, 0, 0.15);\n",
              "      filter: drop-shadow(0px 1px 2px rgba(0, 0, 0, 0.3));\n",
              "      fill: #FFFFFF;\n",
              "    }\n",
              "  </style>\n",
              "\n",
              "      <script>\n",
              "        const buttonEl =\n",
              "          document.querySelector('#df-431fbba0-b6d6-40e6-9ab6-7cad5c9d83d3 button.colab-df-convert');\n",
              "        buttonEl.style.display =\n",
              "          google.colab.kernel.accessAllowed ? 'block' : 'none';\n",
              "\n",
              "        async function convertToInteractive(key) {\n",
              "          const element = document.querySelector('#df-431fbba0-b6d6-40e6-9ab6-7cad5c9d83d3');\n",
              "          const dataTable =\n",
              "            await google.colab.kernel.invokeFunction('convertToInteractive',\n",
              "                                                     [key], {});\n",
              "          if (!dataTable) return;\n",
              "\n",
              "          const docLinkHtml = 'Like what you see? Visit the ' +\n",
              "            '<a target=\"_blank\" href=https://colab.research.google.com/notebooks/data_table.ipynb>data table notebook</a>'\n",
              "            + ' to learn more about interactive tables.';\n",
              "          element.innerHTML = '';\n",
              "          dataTable['output_type'] = 'display_data';\n",
              "          await google.colab.output.renderOutput(dataTable, element);\n",
              "          const docLink = document.createElement('div');\n",
              "          docLink.innerHTML = docLinkHtml;\n",
              "          element.appendChild(docLink);\n",
              "        }\n",
              "      </script>\n",
              "    </div>\n",
              "  </div>\n",
              "  "
            ]
          },
          "metadata": {},
          "execution_count": 62
        }
      ]
    },
    {
      "cell_type": "code",
      "source": [
        "year = df.copy()"
      ],
      "metadata": {
        "id": "8xFs_45Ke8Xq"
      },
      "execution_count": null,
      "outputs": []
    },
    {
      "cell_type": "code",
      "source": [
        "Anos = pd.DataFrame(year.groupby(year['DATA_FATO'].dt.to_period('Y')).sum())"
      ],
      "metadata": {
        "id": "7emASNBHXR8G"
      },
      "execution_count": null,
      "outputs": []
    },
    {
      "cell_type": "code",
      "source": [
        "Anos.index = Anos.index.strftime('%Y')"
      ],
      "metadata": {
        "id": "MjTVM0Qqjht-"
      },
      "execution_count": null,
      "outputs": []
    },
    {
      "cell_type": "code",
      "source": [
        "Meses = pd.DataFrame(year.groupby(year['DATA_FATO'].dt.to_period('M')).sum())\n",
        "Meses.index = Meses.index.strftime('%Y-%m')"
      ],
      "metadata": {
        "id": "YRq_IBHEXR3y"
      },
      "execution_count": null,
      "outputs": []
    },
    {
      "cell_type": "code",
      "source": [
        "fig, ax = plt.subplots(figsize=(18,8), dpi=72)\n",
        "\n",
        "an = ax.bar(Anos.index, Anos['Nº DE VÍT HD'], color='red')\n",
        "ax.set_title(\"FEMINICÍDIO NO ESTADO DE SÃO PAULO POR ANOS\", fontsize=18)\n",
        "ax.spines[:].set_visible(False)\n",
        "ax.yaxis.set_visible(False)\n",
        "ax.tick_params(axis='both', labelsize=15)\n",
        "ax.bar_label(an, fontsize=14)\n",
        "\n",
        "plt.show()"
      ],
      "metadata": {
        "colab": {
          "base_uri": "https://localhost:8080/",
          "height": 508
        },
        "id": "SVSnghpBXR1C",
        "outputId": "9b04c4fe-ad8e-4f7f-b42a-5027a4a78b36"
      },
      "execution_count": null,
      "outputs": [
        {
          "output_type": "display_data",
          "data": {
            "text/plain": [
              "<Figure size 1296x576 with 1 Axes>"
            ],
            "image/png": "[encoded data removed]"
          },
          "metadata": {
            "needs_background": "light"
          }
        }
      ]
    },
    {
      "cell_type": "code",
      "source": [],
      "metadata": {
        "id": "dYoPHyW9iIb-"
      },
      "execution_count": null,
      "outputs": []
    },
    {
      "cell_type": "code",
      "source": [],
      "metadata": {
        "id": "H0r2XKRkpqNw"
      },
      "execution_count": null,
      "outputs": []
    },
    {
      "cell_type": "code",
      "source": [],
      "metadata": {
        "id": "4haUzCFEUD6c"
      },
      "execution_count": null,
      "outputs": []
    },
    {
      "cell_type": "code",
      "source": [
        "Meses.shape[0]"
      ],
      "metadata": {
        "colab": {
          "base_uri": "https://localhost:8080/"
        },
        "id": "1Ih1adHzTeE0",
        "outputId": "99b08eb1-04dd-437d-c0bf-ca709a6ffbe2"
      },
      "execution_count": null,
      "outputs": [
        {
          "output_type": "execute_result",
          "data": {
            "text/plain": [
              "93"
            ]
          },
          "metadata": {},
          "execution_count": 100
        }
      ]
    },
    {
      "cell_type": "code",
      "source": [
        "fig, ax = plt.subplots(nrows=2,figsize=(24,13))\n",
        "ax[0].set_title(\"FEMINICÍDIO POR MESES\", fontsize=16)\n",
        "\n",
        "ax[0].plot(Meses.index[:46], Meses['Nº DE VÍT HD'][:46], '-o',color='red')\n",
        "ax[0].tick_params(axis='x', labelrotation=45)\n",
        "ax[0].grid(True)\n",
        "ax[0].set_yticks(range(0,29,1))\n",
        "ax[0].tick_params(axis='both', labelsize=13)\n",
        "\n",
        "ax[1].plot(Meses.index[46:93], Meses['Nº DE VÍT HD'][46:93], '-o', color='red')\n",
        "ax[1].tick_params(axis='x', labelrotation=45)\n",
        "ax[1].grid(True)\n",
        "ax[1].set_yticks(range(0,29,1))\n",
        "ax[1].tick_params(axis='both', labelsize=13)\n",
        "\n",
        "plt.show()"
      ],
      "metadata": {
        "colab": {
          "base_uri": "https://localhost:8080/",
          "height": 810
        },
        "id": "OkyxjGESTnbb",
        "outputId": "350d22a8-9383-4968-f3a4-1ed5b3cd9a69"
      },
      "execution_count": null,
      "outputs": [
        {
          "output_type": "display_data",
          "data": {
            "text/plain": [
              "<Figure size 1728x936 with 2 Axes>"
            ],
            "image/png": "[encoded data removed]"
          },
          "metadata": {
            "needs_background": "light"
          }
        }
      ]
    },
    {
      "cell_type": "code",
      "source": [],
      "metadata": {
        "id": "R1tsQC93tzJY"
      },
      "execution_count": null,
      "outputs": []
    },
    {
      "cell_type": "markdown",
      "source": [
        "# **Conclusões finais:**\n",
        "* ### No artigo do github irei apresentar e comentar mais sobre os gráficos plotados e como os dados se corportaram em seus anos e meses, também em quais clases mais afetadas."
      ],
      "metadata": {
        "id": "SZbBLJLjt9LB"
      }
    }
  ]
}